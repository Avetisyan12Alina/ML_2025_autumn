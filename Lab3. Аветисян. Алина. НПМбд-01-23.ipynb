{
  "metadata": {
    "kernelspec": {
      "name": "python",
      "display_name": "Python (Pyodide)",
      "language": "python"
    },
    "language_info": {
      "codemirror_mode": {
        "name": "python",
        "version": 3
      },
      "file_extension": ".py",
      "mimetype": "text/x-python",
      "name": "python",
      "nbconvert_exporter": "python",
      "pygments_lexer": "ipython3",
      "version": "3.8"
    },
    "kernel_info": {
      "name": "py36"
    },
    "nteract": {
      "version": "0.11.6"
    }
  },
  "nbformat_minor": 4,
  "nbformat": 4,
  "cells": [
    {
      "cell_type": "markdown",
      "source": "# Домашнее задание 1 - PANDAS",
      "metadata": {}
    },
    {
      "cell_type": "markdown",
      "source": "### О задании\n\nЗадание состоит из двух разделов, посвященных работе с табличными данными с помощью библиотеки pandas и визуализации с помощью matplotlib. В каждом разделе вам предлагается выполнить несколько заданий. Баллы даются за выполнение отдельных пунктов. Задачи в рамках одного раздела рекомендуется решать в том порядке, в котором они даны в задании.\n\nЗадание направлено на освоение jupyter notebook (будет использоваться в дальнейших заданиях), библиотекам pandas и matplotlib.\n\n### Оценивание и штрафы\nКаждая из задач имеет определенную «стоимость» (указана в скобках около задачи). Максимально допустимая оценка за работу — 10 баллов.\n\nСдавать задание после указанного срока сдачи нельзя. При выставлении неполного балла за задание в связи с наличием ошибок на усмотрение проверяющего предусмотрена возможность исправить работу на указанных в ответном письме условиях.\n\nЗадание выполняется самостоятельно. «Похожие» решения считаются плагиатом и все задействованные студенты (в том числе те, у кого списали) не могут получить за него больше 0 баллов. Если вы нашли решение какого-то из заданий (или его часть) в открытом источнике, необходимо указать ссылку на этот источник в отдельном блоке в конце вашей работы (скорее всего вы будете не единственным, кто это нашел, поэтому чтобы исключить подозрение в плагиате, необходима ссылка на источник).",
      "metadata": {}
    },
    {
      "cell_type": "markdown",
      "source": "Сейчас мы находимся в jupyter-ноутбуке (или ipython-ноутбуке). Это удобная среда для написания кода, проведения экспериментов, изучения данных, построения визуализаций и других нужд, не связанных с написаем production-кода. \n\nНоутбук состоит из ячеек, каждая из которых может быть либо ячейкой с кодом, либо ячейкой с текстом размеченным и неразмеченным. Текст поддерживает markdown-разметку и формулы в Latex.\n\nДля работы с содержимым ячейки используется *режим редактирования* (*Edit mode*, включается нажатием клавиши **Enter** после выбора ячейки), а для навигации между ячейками искользуется *командный режим* (*Command mode*, включается нажатием клавиши **Esc**). Тип ячейки можно задать в командном режиме либо с помощью горячих клавиш (**y** to code, **m** to markdown, **r** to edit raw text), либо в меню *Cell -> Cell type*. \n\nПосле заполнения ячейки нужно нажать *Shift + Enter*, эта команда обработает содержимое ячейки: проинтерпретирует код или сверстает размеченный текст.\n\n### Формат сдачи\nДля сдачи задания получившийся файл \\*.ipynb с решением необходимо выложить в свой репозиторий github.",
      "metadata": {
        "collapsed": true,
        "jupyter": {
          "outputs_hidden": true
        }
      }
    },
    {
      "cell_type": "markdown",
      "source": "## 1. Табличные данные и Pandas",
      "metadata": {}
    },
    {
      "cell_type": "markdown",
      "source": "Pandas — удобная библиотека для работы с табличными данными в Python, если данных не слишком много и они помещаются в оперативную память вашего компьютера. Несмотря на неэффективность реализации и некоторые проблемы, библиотека стала стандартом в анализе данных. С этой библиотекой мы сейчас и познакомимся.\n\nОсновной объект в pandas это DataFrame, представляющий собой таблицу с именованными колонками различных типов, индексом (может быть многоуровневым). DataFrame можно создавать, считывая таблицу из файла или задавая вручную из других объектов.\n\nВ этой части потребуется выполнить несколько небольших заданий. Можно пойти двумя путями: сначала изучить материалы, а потом приступить к заданиям, или же разбираться \"по ходу\". Выбирайте сами.\n\nМатериалы:\n1. [Pandas за 10 минут из официального руководства](http://pandas.pydata.org/pandas-docs/stable/10min.html)\n2. [Документация](http://pandas.pydata.org/pandas-docs/stable/index.html) (стоит обращаться, если не понятно, как вызывать конкретный метод)\n3. [Примеры использования функционала](http://nbviewer.jupyter.org/github/justmarkham/pandas-videos/blob/master/pandas.ipynb)\n\nМногие из заданий можно выполнить несколькими способами. Не существуют единственно верного, но попробуйте максимально задействовать арсенал pandas и ориентируйтесь на простоту и понятность вашего кода. Мы не будем подсказывать, что нужно использовать для решения конкретной задачи, попробуйте находить необходимый функционал сами (название метода чаще всего очевидно). В помощь вам документация, поиск и stackoverflow.",
      "metadata": {}
    },
    {
      "cell_type": "code",
      "source": "%pylab inline  \n# import almost all we need\nimport pandas as pd\nimport numpy as np\nimport matplotlib.pyplot as plt",
      "metadata": {
        "trusted": true
      },
      "outputs": [
        {
          "name": "stdout",
          "output_type": "stream",
          "text": "%pylab is deprecated, use %matplotlib inline and import the required libraries.\nPopulating the interactive namespace from numpy and matplotlib\n"
        }
      ],
      "execution_count": 3
    },
    {
      "cell_type": "markdown",
      "source": "Данные находятся в приложенном файле `chipotle.tsv`",
      "metadata": {}
    },
    {
      "cell_type": "markdown",
      "source": "#### 1. [0.5 баллов] Откройте файл с таблицей (не забудьте про её формат). Выведите последние 10 строк.\n\nПосмотрите на данные и скажите, что они из себя представляют, сколько в таблице строк, какие столбцы?",
      "metadata": {}
    },
    {
      "cell_type": "code",
      "source": "data = pd.read_csv('chipotle.tsv', sep='\\t')",
      "metadata": {
        "trusted": true
      },
      "outputs": [],
      "execution_count": 5
    },
    {
      "cell_type": "code",
      "source": "data.tail(10)",
      "metadata": {
        "trusted": true
      },
      "outputs": [
        {
          "execution_count": 7,
          "output_type": "execute_result",
          "data": {
            "text/plain": "      order_id  quantity            item_name  \\\n4612      1831         1        Carnitas Bowl   \n4613      1831         1                Chips   \n4614      1831         1        Bottled Water   \n4615      1832         1   Chicken Soft Tacos   \n4616      1832         1  Chips and Guacamole   \n4617      1833         1        Steak Burrito   \n4618      1833         1        Steak Burrito   \n4619      1834         1   Chicken Salad Bowl   \n4620      1834         1   Chicken Salad Bowl   \n4621      1834         1   Chicken Salad Bowl   \n\n                                     choice_description item_price  \n4612  [Fresh Tomato Salsa, [Fajita Vegetables, Rice,...     $9.25   \n4613                                                NaN     $2.15   \n4614                                                NaN     $1.50   \n4615   [Fresh Tomato Salsa, [Rice, Cheese, Sour Cream]]     $8.75   \n4616                                                NaN     $4.45   \n4617  [Fresh Tomato Salsa, [Rice, Black Beans, Sour ...    $11.75   \n4618  [Fresh Tomato Salsa, [Rice, Sour Cream, Cheese...    $11.75   \n4619  [Fresh Tomato Salsa, [Fajita Vegetables, Pinto...    $11.25   \n4620  [Fresh Tomato Salsa, [Fajita Vegetables, Lettu...     $8.75   \n4621  [Fresh Tomato Salsa, [Fajita Vegetables, Pinto...     $8.75   ",
            "text/html": "<div>\n<style scoped>\n    .dataframe tbody tr th:only-of-type {\n        vertical-align: middle;\n    }\n\n    .dataframe tbody tr th {\n        vertical-align: top;\n    }\n\n    .dataframe thead th {\n        text-align: right;\n    }\n</style>\n<table border=\"1\" class=\"dataframe\">\n  <thead>\n    <tr style=\"text-align: right;\">\n      <th></th>\n      <th>order_id</th>\n      <th>quantity</th>\n      <th>item_name</th>\n      <th>choice_description</th>\n      <th>item_price</th>\n    </tr>\n  </thead>\n  <tbody>\n    <tr>\n      <th>4612</th>\n      <td>1831</td>\n      <td>1</td>\n      <td>Carnitas Bowl</td>\n      <td>[Fresh Tomato Salsa, [Fajita Vegetables, Rice,...</td>\n      <td>$9.25</td>\n    </tr>\n    <tr>\n      <th>4613</th>\n      <td>1831</td>\n      <td>1</td>\n      <td>Chips</td>\n      <td>NaN</td>\n      <td>$2.15</td>\n    </tr>\n    <tr>\n      <th>4614</th>\n      <td>1831</td>\n      <td>1</td>\n      <td>Bottled Water</td>\n      <td>NaN</td>\n      <td>$1.50</td>\n    </tr>\n    <tr>\n      <th>4615</th>\n      <td>1832</td>\n      <td>1</td>\n      <td>Chicken Soft Tacos</td>\n      <td>[Fresh Tomato Salsa, [Rice, Cheese, Sour Cream]]</td>\n      <td>$8.75</td>\n    </tr>\n    <tr>\n      <th>4616</th>\n      <td>1832</td>\n      <td>1</td>\n      <td>Chips and Guacamole</td>\n      <td>NaN</td>\n      <td>$4.45</td>\n    </tr>\n    <tr>\n      <th>4617</th>\n      <td>1833</td>\n      <td>1</td>\n      <td>Steak Burrito</td>\n      <td>[Fresh Tomato Salsa, [Rice, Black Beans, Sour ...</td>\n      <td>$11.75</td>\n    </tr>\n    <tr>\n      <th>4618</th>\n      <td>1833</td>\n      <td>1</td>\n      <td>Steak Burrito</td>\n      <td>[Fresh Tomato Salsa, [Rice, Sour Cream, Cheese...</td>\n      <td>$11.75</td>\n    </tr>\n    <tr>\n      <th>4619</th>\n      <td>1834</td>\n      <td>1</td>\n      <td>Chicken Salad Bowl</td>\n      <td>[Fresh Tomato Salsa, [Fajita Vegetables, Pinto...</td>\n      <td>$11.25</td>\n    </tr>\n    <tr>\n      <th>4620</th>\n      <td>1834</td>\n      <td>1</td>\n      <td>Chicken Salad Bowl</td>\n      <td>[Fresh Tomato Salsa, [Fajita Vegetables, Lettu...</td>\n      <td>$8.75</td>\n    </tr>\n    <tr>\n      <th>4621</th>\n      <td>1834</td>\n      <td>1</td>\n      <td>Chicken Salad Bowl</td>\n      <td>[Fresh Tomato Salsa, [Fajita Vegetables, Pinto...</td>\n      <td>$8.75</td>\n    </tr>\n  </tbody>\n</table>\n</div>"
          },
          "metadata": {}
        }
      ],
      "execution_count": 7
    },
    {
      "cell_type": "markdown",
      "source": "В таблице 4622 строки, столбцы: номер заказа, количество, название блюда, описание выбранного товара, цена товара.\nТаблица - учётная книга заказов ресторана.",
      "metadata": {}
    },
    {
      "cell_type": "markdown",
      "source": "#### 2. [0.25 баллов] Ответьте на вопросы:\n1. Сколько заказов попало в выборку?\n2. Сколько уникальных категорий товара было куплено? (item_name)",
      "metadata": {}
    },
    {
      "cell_type": "code",
      "source": "data['order_id'].nunique()",
      "metadata": {
        "trusted": true
      },
      "outputs": [
        {
          "execution_count": 8,
          "output_type": "execute_result",
          "data": {
            "text/plain": "1834"
          },
          "metadata": {}
        }
      ],
      "execution_count": 8
    },
    {
      "cell_type": "code",
      "source": "data['item_name'].nunique()",
      "metadata": {
        "trusted": true
      },
      "outputs": [
        {
          "execution_count": 9,
          "output_type": "execute_result",
          "data": {
            "text/plain": "50"
          },
          "metadata": {}
        }
      ],
      "execution_count": 9
    },
    {
      "cell_type": "markdown",
      "source": "В выборку попало 1834 заказа и было куплено 50 уникальных категорий товара.",
      "metadata": {}
    },
    {
      "cell_type": "markdown",
      "source": "#### 3. [0.25 баллов] Есть ли в данных пропуски? В каких колонках? ",
      "metadata": {}
    },
    {
      "cell_type": "code",
      "source": "data.isnull()",
      "metadata": {
        "trusted": true
      },
      "outputs": [
        {
          "execution_count": 11,
          "output_type": "execute_result",
          "data": {
            "text/plain": "      order_id  quantity  item_name  choice_description  item_price\n0        False     False      False                True       False\n1        False     False      False               False       False\n2        False     False      False               False       False\n3        False     False      False                True       False\n4        False     False      False               False       False\n...        ...       ...        ...                 ...         ...\n4617     False     False      False               False       False\n4618     False     False      False               False       False\n4619     False     False      False               False       False\n4620     False     False      False               False       False\n4621     False     False      False               False       False\n\n[4622 rows x 5 columns]",
            "text/html": "<div>\n<style scoped>\n    .dataframe tbody tr th:only-of-type {\n        vertical-align: middle;\n    }\n\n    .dataframe tbody tr th {\n        vertical-align: top;\n    }\n\n    .dataframe thead th {\n        text-align: right;\n    }\n</style>\n<table border=\"1\" class=\"dataframe\">\n  <thead>\n    <tr style=\"text-align: right;\">\n      <th></th>\n      <th>order_id</th>\n      <th>quantity</th>\n      <th>item_name</th>\n      <th>choice_description</th>\n      <th>item_price</th>\n    </tr>\n  </thead>\n  <tbody>\n    <tr>\n      <th>0</th>\n      <td>False</td>\n      <td>False</td>\n      <td>False</td>\n      <td>True</td>\n      <td>False</td>\n    </tr>\n    <tr>\n      <th>1</th>\n      <td>False</td>\n      <td>False</td>\n      <td>False</td>\n      <td>False</td>\n      <td>False</td>\n    </tr>\n    <tr>\n      <th>2</th>\n      <td>False</td>\n      <td>False</td>\n      <td>False</td>\n      <td>False</td>\n      <td>False</td>\n    </tr>\n    <tr>\n      <th>3</th>\n      <td>False</td>\n      <td>False</td>\n      <td>False</td>\n      <td>True</td>\n      <td>False</td>\n    </tr>\n    <tr>\n      <th>4</th>\n      <td>False</td>\n      <td>False</td>\n      <td>False</td>\n      <td>False</td>\n      <td>False</td>\n    </tr>\n    <tr>\n      <th>...</th>\n      <td>...</td>\n      <td>...</td>\n      <td>...</td>\n      <td>...</td>\n      <td>...</td>\n    </tr>\n    <tr>\n      <th>4617</th>\n      <td>False</td>\n      <td>False</td>\n      <td>False</td>\n      <td>False</td>\n      <td>False</td>\n    </tr>\n    <tr>\n      <th>4618</th>\n      <td>False</td>\n      <td>False</td>\n      <td>False</td>\n      <td>False</td>\n      <td>False</td>\n    </tr>\n    <tr>\n      <th>4619</th>\n      <td>False</td>\n      <td>False</td>\n      <td>False</td>\n      <td>False</td>\n      <td>False</td>\n    </tr>\n    <tr>\n      <th>4620</th>\n      <td>False</td>\n      <td>False</td>\n      <td>False</td>\n      <td>False</td>\n      <td>False</td>\n    </tr>\n    <tr>\n      <th>4621</th>\n      <td>False</td>\n      <td>False</td>\n      <td>False</td>\n      <td>False</td>\n      <td>False</td>\n    </tr>\n  </tbody>\n</table>\n<p>4622 rows × 5 columns</p>\n</div>"
          },
          "metadata": {}
        }
      ],
      "execution_count": 11
    },
    {
      "cell_type": "markdown",
      "source": "Пропуски есть только в столбце \"choice_description\".",
      "metadata": {}
    },
    {
      "cell_type": "markdown",
      "source": "Заполните пропуски пустой строкой для строковых колонок и нулём для числовых.",
      "metadata": {}
    },
    {
      "cell_type": "code",
      "source": "data.fillna('')",
      "metadata": {
        "trusted": true
      },
      "outputs": [
        {
          "execution_count": 12,
          "output_type": "execute_result",
          "data": {
            "text/plain": "      order_id  quantity                              item_name  \\\n0            1         1           Chips and Fresh Tomato Salsa   \n1            1         1                                   Izze   \n2            1         1                       Nantucket Nectar   \n3            1         1  Chips and Tomatillo-Green Chili Salsa   \n4            2         2                           Chicken Bowl   \n...        ...       ...                                    ...   \n4617      1833         1                          Steak Burrito   \n4618      1833         1                          Steak Burrito   \n4619      1834         1                     Chicken Salad Bowl   \n4620      1834         1                     Chicken Salad Bowl   \n4621      1834         1                     Chicken Salad Bowl   \n\n                                     choice_description item_price  \n0                                                           $2.39   \n1                                          [Clementine]     $3.39   \n2                                               [Apple]     $3.39   \n3                                                           $2.39   \n4     [Tomatillo-Red Chili Salsa (Hot), [Black Beans...    $16.98   \n...                                                 ...        ...  \n4617  [Fresh Tomato Salsa, [Rice, Black Beans, Sour ...    $11.75   \n4618  [Fresh Tomato Salsa, [Rice, Sour Cream, Cheese...    $11.75   \n4619  [Fresh Tomato Salsa, [Fajita Vegetables, Pinto...    $11.25   \n4620  [Fresh Tomato Salsa, [Fajita Vegetables, Lettu...     $8.75   \n4621  [Fresh Tomato Salsa, [Fajita Vegetables, Pinto...     $8.75   \n\n[4622 rows x 5 columns]",
            "text/html": "<div>\n<style scoped>\n    .dataframe tbody tr th:only-of-type {\n        vertical-align: middle;\n    }\n\n    .dataframe tbody tr th {\n        vertical-align: top;\n    }\n\n    .dataframe thead th {\n        text-align: right;\n    }\n</style>\n<table border=\"1\" class=\"dataframe\">\n  <thead>\n    <tr style=\"text-align: right;\">\n      <th></th>\n      <th>order_id</th>\n      <th>quantity</th>\n      <th>item_name</th>\n      <th>choice_description</th>\n      <th>item_price</th>\n    </tr>\n  </thead>\n  <tbody>\n    <tr>\n      <th>0</th>\n      <td>1</td>\n      <td>1</td>\n      <td>Chips and Fresh Tomato Salsa</td>\n      <td></td>\n      <td>$2.39</td>\n    </tr>\n    <tr>\n      <th>1</th>\n      <td>1</td>\n      <td>1</td>\n      <td>Izze</td>\n      <td>[Clementine]</td>\n      <td>$3.39</td>\n    </tr>\n    <tr>\n      <th>2</th>\n      <td>1</td>\n      <td>1</td>\n      <td>Nantucket Nectar</td>\n      <td>[Apple]</td>\n      <td>$3.39</td>\n    </tr>\n    <tr>\n      <th>3</th>\n      <td>1</td>\n      <td>1</td>\n      <td>Chips and Tomatillo-Green Chili Salsa</td>\n      <td></td>\n      <td>$2.39</td>\n    </tr>\n    <tr>\n      <th>4</th>\n      <td>2</td>\n      <td>2</td>\n      <td>Chicken Bowl</td>\n      <td>[Tomatillo-Red Chili Salsa (Hot), [Black Beans...</td>\n      <td>$16.98</td>\n    </tr>\n    <tr>\n      <th>...</th>\n      <td>...</td>\n      <td>...</td>\n      <td>...</td>\n      <td>...</td>\n      <td>...</td>\n    </tr>\n    <tr>\n      <th>4617</th>\n      <td>1833</td>\n      <td>1</td>\n      <td>Steak Burrito</td>\n      <td>[Fresh Tomato Salsa, [Rice, Black Beans, Sour ...</td>\n      <td>$11.75</td>\n    </tr>\n    <tr>\n      <th>4618</th>\n      <td>1833</td>\n      <td>1</td>\n      <td>Steak Burrito</td>\n      <td>[Fresh Tomato Salsa, [Rice, Sour Cream, Cheese...</td>\n      <td>$11.75</td>\n    </tr>\n    <tr>\n      <th>4619</th>\n      <td>1834</td>\n      <td>1</td>\n      <td>Chicken Salad Bowl</td>\n      <td>[Fresh Tomato Salsa, [Fajita Vegetables, Pinto...</td>\n      <td>$11.25</td>\n    </tr>\n    <tr>\n      <th>4620</th>\n      <td>1834</td>\n      <td>1</td>\n      <td>Chicken Salad Bowl</td>\n      <td>[Fresh Tomato Salsa, [Fajita Vegetables, Lettu...</td>\n      <td>$8.75</td>\n    </tr>\n    <tr>\n      <th>4621</th>\n      <td>1834</td>\n      <td>1</td>\n      <td>Chicken Salad Bowl</td>\n      <td>[Fresh Tomato Salsa, [Fajita Vegetables, Pinto...</td>\n      <td>$8.75</td>\n    </tr>\n  </tbody>\n</table>\n<p>4622 rows × 5 columns</p>\n</div>"
          },
          "metadata": {}
        }
      ],
      "execution_count": 12
    },
    {
      "cell_type": "markdown",
      "source": "#### 4. [0.5 баллов] Посмотрите внимательнее на колонку с ценой товара. Какого она типа? Создайте новую колонку так, чтобы в ней цена была числом.\n\nДля этого попробуйте применить функцию-преобразование к каждой строке вашей таблицы (для этого есть соответствующая функция).",
      "metadata": {}
    },
    {
      "cell_type": "code",
      "source": "data['item_price'].dtype",
      "metadata": {
        "trusted": true
      },
      "outputs": [
        {
          "execution_count": 15,
          "output_type": "execute_result",
          "data": {
            "text/plain": "dtype('O')"
          },
          "metadata": {}
        }
      ],
      "execution_count": 15
    },
    {
      "cell_type": "code",
      "source": "data['item_price_numeric'] = data['item_price'].apply(\n    lambda x: float(x.replace('$', '').strip()) if isinstance(x, str) else float(x)\n)\n\ndata[['item_price_numeric']].head()",
      "metadata": {
        "trusted": true
      },
      "outputs": [
        {
          "execution_count": 14,
          "output_type": "execute_result",
          "data": {
            "text/plain": "   item_price_numeric\n0                2.39\n1                3.39\n2                3.39\n3                2.39\n4               16.98",
            "text/html": "<div>\n<style scoped>\n    .dataframe tbody tr th:only-of-type {\n        vertical-align: middle;\n    }\n\n    .dataframe tbody tr th {\n        vertical-align: top;\n    }\n\n    .dataframe thead th {\n        text-align: right;\n    }\n</style>\n<table border=\"1\" class=\"dataframe\">\n  <thead>\n    <tr style=\"text-align: right;\">\n      <th></th>\n      <th>item_price_numeric</th>\n    </tr>\n  </thead>\n  <tbody>\n    <tr>\n      <th>0</th>\n      <td>2.39</td>\n    </tr>\n    <tr>\n      <th>1</th>\n      <td>3.39</td>\n    </tr>\n    <tr>\n      <th>2</th>\n      <td>3.39</td>\n    </tr>\n    <tr>\n      <th>3</th>\n      <td>2.39</td>\n    </tr>\n    <tr>\n      <th>4</th>\n      <td>16.98</td>\n    </tr>\n  </tbody>\n</table>\n</div>"
          },
          "metadata": {}
        }
      ],
      "execution_count": 14
    },
    {
      "cell_type": "markdown",
      "source": "Какая средняя/минимальная/максимальная цена у товара? ",
      "metadata": {}
    },
    {
      "cell_type": "code",
      "source": "np.mean(data['item_price_numeric']).item()",
      "metadata": {
        "trusted": true
      },
      "outputs": [
        {
          "execution_count": 16,
          "output_type": "execute_result",
          "data": {
            "text/plain": "7.464335785374297"
          },
          "metadata": {}
        }
      ],
      "execution_count": 16
    },
    {
      "cell_type": "code",
      "source": "data['item_price_numeric'].min().item()",
      "metadata": {
        "trusted": true
      },
      "outputs": [
        {
          "execution_count": 17,
          "output_type": "execute_result",
          "data": {
            "text/plain": "1.09"
          },
          "metadata": {}
        }
      ],
      "execution_count": 17
    },
    {
      "cell_type": "code",
      "source": "data['item_price_numeric'].max().item()",
      "metadata": {
        "trusted": true
      },
      "outputs": [
        {
          "execution_count": 19,
          "output_type": "execute_result",
          "data": {
            "text/plain": "44.25"
          },
          "metadata": {}
        }
      ],
      "execution_count": 19
    },
    {
      "cell_type": "markdown",
      "source": "Удалите старую колонку с ценой.",
      "metadata": {}
    },
    {
      "cell_type": "code",
      "source": "data.drop('item_price', axis=1, inplace=True)\ndata.head()",
      "metadata": {
        "trusted": true
      },
      "outputs": [
        {
          "execution_count": 20,
          "output_type": "execute_result",
          "data": {
            "text/plain": "   order_id  quantity                              item_name  \\\n0         1         1           Chips and Fresh Tomato Salsa   \n1         1         1                                   Izze   \n2         1         1                       Nantucket Nectar   \n3         1         1  Chips and Tomatillo-Green Chili Salsa   \n4         2         2                           Chicken Bowl   \n\n                                  choice_description  item_price_numeric  \n0                                                NaN                2.39  \n1                                       [Clementine]                3.39  \n2                                            [Apple]                3.39  \n3                                                NaN                2.39  \n4  [Tomatillo-Red Chili Salsa (Hot), [Black Beans...               16.98  ",
            "text/html": "<div>\n<style scoped>\n    .dataframe tbody tr th:only-of-type {\n        vertical-align: middle;\n    }\n\n    .dataframe tbody tr th {\n        vertical-align: top;\n    }\n\n    .dataframe thead th {\n        text-align: right;\n    }\n</style>\n<table border=\"1\" class=\"dataframe\">\n  <thead>\n    <tr style=\"text-align: right;\">\n      <th></th>\n      <th>order_id</th>\n      <th>quantity</th>\n      <th>item_name</th>\n      <th>choice_description</th>\n      <th>item_price_numeric</th>\n    </tr>\n  </thead>\n  <tbody>\n    <tr>\n      <th>0</th>\n      <td>1</td>\n      <td>1</td>\n      <td>Chips and Fresh Tomato Salsa</td>\n      <td>NaN</td>\n      <td>2.39</td>\n    </tr>\n    <tr>\n      <th>1</th>\n      <td>1</td>\n      <td>1</td>\n      <td>Izze</td>\n      <td>[Clementine]</td>\n      <td>3.39</td>\n    </tr>\n    <tr>\n      <th>2</th>\n      <td>1</td>\n      <td>1</td>\n      <td>Nantucket Nectar</td>\n      <td>[Apple]</td>\n      <td>3.39</td>\n    </tr>\n    <tr>\n      <th>3</th>\n      <td>1</td>\n      <td>1</td>\n      <td>Chips and Tomatillo-Green Chili Salsa</td>\n      <td>NaN</td>\n      <td>2.39</td>\n    </tr>\n    <tr>\n      <th>4</th>\n      <td>2</td>\n      <td>2</td>\n      <td>Chicken Bowl</td>\n      <td>[Tomatillo-Red Chili Salsa (Hot), [Black Beans...</td>\n      <td>16.98</td>\n    </tr>\n  </tbody>\n</table>\n</div>"
          },
          "metadata": {}
        }
      ],
      "execution_count": 20
    },
    {
      "cell_type": "markdown",
      "source": "#### 5. [0.25 баллов] Какие 5 товаров были самыми дешёвыми и самыми дорогими? (по item_name)\n\nДля этого будет удобно избавиться от дубликатов и отсортировать товары. Не забудьте про количество товара.",
      "metadata": {}
    },
    {
      "cell_type": "code",
      "source": "data.groupby('item_name')['item_price_numeric'].min()",
      "metadata": {
        "trusted": true
      },
      "outputs": [
        {
          "execution_count": 23,
          "output_type": "execute_result",
          "data": {
            "text/plain": "item_name\n6 Pack Soft Drink                        6.49\nBarbacoa Bowl                            8.69\nBarbacoa Burrito                         8.69\nBarbacoa Crispy Tacos                    8.99\nBarbacoa Salad Bowl                      9.39\nBarbacoa Soft Tacos                      8.99\nBottled Water                            1.09\nBowl                                     7.40\nBurrito                                  7.40\nCanned Soda                              1.09\nCanned Soft Drink                        1.25\nCarnitas Bowl                            8.99\nCarnitas Burrito                         8.69\nCarnitas Crispy Tacos                    8.99\nCarnitas Salad                           8.99\nCarnitas Salad Bowl                      9.39\nCarnitas Soft Tacos                      8.99\nChicken Bowl                             8.19\nChicken Burrito                          8.19\nChicken Crispy Tacos                     8.49\nChicken Salad                            8.19\nChicken Salad Bowl                       8.75\nChicken Soft Tacos                       8.49\nChips                                    1.99\nChips and Fresh Tomato Salsa             2.29\nChips and Guacamole                      3.89\nChips and Mild Fresh Tomato Salsa        3.00\nChips and Roasted Chili Corn Salsa       2.95\nChips and Roasted Chili-Corn Salsa       2.39\nChips and Tomatillo Green Chili Salsa    2.95\nChips and Tomatillo Red Chili Salsa      2.95\nChips and Tomatillo-Green Chili Salsa    2.39\nChips and Tomatillo-Red Chili Salsa      2.39\nCrispy Tacos                             7.40\nIzze                                     3.39\nNantucket Nectar                         3.39\nSalad                                    7.40\nSide of Chips                            1.69\nSteak Bowl                               8.69\nSteak Burrito                            8.69\nSteak Crispy Tacos                       8.69\nSteak Salad                              8.69\nSteak Salad Bowl                         9.39\nSteak Soft Tacos                         8.99\nVeggie Bowl                              8.49\nVeggie Burrito                           8.49\nVeggie Crispy Tacos                      8.49\nVeggie Salad                             8.49\nVeggie Salad Bowl                        8.75\nVeggie Soft Tacos                        8.49\nName: item_price_numeric, dtype: float64"
          },
          "metadata": {}
        }
      ],
      "execution_count": 23
    },
    {
      "cell_type": "code",
      "source": "data.groupby('item_name')['item_price_numeric'].min().nsmallest(5)",
      "metadata": {
        "trusted": true
      },
      "outputs": [
        {
          "execution_count": 24,
          "output_type": "execute_result",
          "data": {
            "text/plain": "item_name\nBottled Water        1.09\nCanned Soda          1.09\nCanned Soft Drink    1.25\nSide of Chips        1.69\nChips                1.99\nName: item_price_numeric, dtype: float64"
          },
          "metadata": {}
        }
      ],
      "execution_count": 24
    },
    {
      "cell_type": "code",
      "source": "data.groupby('item_name')['item_price_numeric'].max()",
      "metadata": {
        "trusted": true
      },
      "outputs": [
        {
          "execution_count": 25,
          "output_type": "execute_result",
          "data": {
            "text/plain": "item_name\n6 Pack Soft Drink                        12.98\nBarbacoa Bowl                            11.75\nBarbacoa Burrito                         11.75\nBarbacoa Crispy Tacos                    18.50\nBarbacoa Salad Bowl                      11.89\nBarbacoa Soft Tacos                      11.75\nBottled Water                            15.00\nBowl                                     22.20\nBurrito                                   7.40\nCanned Soda                               4.36\nCanned Soft Drink                         5.00\nCarnitas Bowl                            35.25\nCarnitas Burrito                         18.50\nCarnitas Crispy Tacos                    17.98\nCarnitas Salad                            8.99\nCarnitas Salad Bowl                      11.89\nCarnitas Soft Tacos                      11.75\nChicken Bowl                             32.94\nChicken Burrito                          35.00\nChicken Crispy Tacos                     17.50\nChicken Salad                            10.98\nChicken Salad Bowl                       22.50\nChicken Soft Tacos                       21.96\nChips                                     6.45\nChips and Fresh Tomato Salsa             44.25\nChips and Guacamole                      17.80\nChips and Mild Fresh Tomato Salsa         3.00\nChips and Roasted Chili Corn Salsa        5.90\nChips and Roasted Chili-Corn Salsa        2.39\nChips and Tomatillo Green Chili Salsa     5.90\nChips and Tomatillo Red Chili Salsa       5.90\nChips and Tomatillo-Green Chili Salsa     4.78\nChips and Tomatillo-Red Chili Salsa       7.17\nCrispy Tacos                              7.40\nIzze                                      3.39\nNantucket Nectar                          6.78\nSalad                                     7.40\nSide of Chips                            13.52\nSteak Bowl                               26.07\nSteak Burrito                            27.75\nSteak Crispy Tacos                       17.98\nSteak Salad                               8.99\nSteak Salad Bowl                         23.78\nSteak Soft Tacos                         18.50\nVeggie Bowl                              16.98\nVeggie Burrito                           33.75\nVeggie Crispy Tacos                       8.49\nVeggie Salad                              8.49\nVeggie Salad Bowl                        11.25\nVeggie Soft Tacos                        16.98\nName: item_price_numeric, dtype: float64"
          },
          "metadata": {}
        }
      ],
      "execution_count": 25
    },
    {
      "cell_type": "code",
      "source": "data.groupby('item_name')['item_price_numeric'].max().nlargest(5)",
      "metadata": {
        "trusted": true
      },
      "outputs": [
        {
          "execution_count": 26,
          "output_type": "execute_result",
          "data": {
            "text/plain": "item_name\nChips and Fresh Tomato Salsa    44.25\nCarnitas Bowl                   35.25\nChicken Burrito                 35.00\nVeggie Burrito                  33.75\nChicken Bowl                    32.94\nName: item_price_numeric, dtype: float64"
          },
          "metadata": {}
        }
      ],
      "execution_count": 26
    },
    {
      "cell_type": "markdown",
      "source": "#### 6. [0.5 баллов] Сколько раз клиенты покупали больше 1 Chicken Bowl (item_name)?",
      "metadata": {
        "tags": [],
        "editable": true,
        "slideshow": {
          "slide_type": ""
        }
      }
    },
    {
      "cell_type": "code",
      "source": "data[data['item_name'] == 'Chicken Bowl'].groupby('item_name')['quantity'].value_counts()",
      "metadata": {
        "trusted": true
      },
      "outputs": [
        {
          "execution_count": 27,
          "output_type": "execute_result",
          "data": {
            "text/plain": "item_name     quantity\nChicken Bowl  1           693\n              2            31\n              3             2\nName: count, dtype: int64"
          },
          "metadata": {}
        }
      ],
      "execution_count": 27
    },
    {
      "cell_type": "code",
      "source": "33 раза",
      "metadata": {
        "trusted": true
      },
      "outputs": [],
      "execution_count": null
    },
    {
      "cell_type": "markdown",
      "source": "#### 7. [0.5 баллов] Какой средний чек у заказа? Сколько в среднем товаров покупают?\n\nЕсли необходимо провести вычисления в терминах заказов, то будет удобно сгруппировать строки по заказам и посчитать необходимые статистики.",
      "metadata": {}
    },
    {
      "cell_type": "code",
      "source": "data.groupby('order_id')['item_price_numeric'].sum().mean().item()",
      "metadata": {
        "trusted": true
      },
      "outputs": [
        {
          "execution_count": 29,
          "output_type": "execute_result",
          "data": {
            "text/plain": "18.811428571428568"
          },
          "metadata": {}
        }
      ],
      "execution_count": 29
    },
    {
      "cell_type": "markdown",
      "source": "Средний чек: 18.81",
      "metadata": {}
    },
    {
      "cell_type": "code",
      "source": "data.groupby('order_id')['quantity'].sum().mean().item()",
      "metadata": {
        "trusted": true
      },
      "outputs": [
        {
          "execution_count": 30,
          "output_type": "execute_result",
          "data": {
            "text/plain": "2.711014176663032"
          },
          "metadata": {}
        }
      ],
      "execution_count": 30
    },
    {
      "cell_type": "code",
      "source": "Среднее количество товаров: 2.71",
      "metadata": {
        "trusted": true
      },
      "outputs": [],
      "execution_count": null
    },
    {
      "cell_type": "markdown",
      "source": "#### 8. [0.25 баллов] Сколько заказов содержали ровно 1 товар?",
      "metadata": {}
    },
    {
      "cell_type": "code",
      "source": "(data.groupby('order_id')['quantity'].sum() == 1).sum().item()",
      "metadata": {
        "trusted": true
      },
      "outputs": [
        {
          "execution_count": 32,
          "output_type": "execute_result",
          "data": {
            "text/plain": "56"
          },
          "metadata": {}
        }
      ],
      "execution_count": 32
    },
    {
      "cell_type": "markdown",
      "source": "#### 9. [0.25 баллов] Какая самая популярная категория товара? ",
      "metadata": {}
    },
    {
      "cell_type": "code",
      "source": "data.groupby('item_name')['quantity'].sum().nlargest(1)",
      "metadata": {
        "trusted": true
      },
      "outputs": [
        {
          "execution_count": 33,
          "output_type": "execute_result",
          "data": {
            "text/plain": "item_name\nChicken Bowl    761\nName: quantity, dtype: int64"
          },
          "metadata": {}
        }
      ],
      "execution_count": 33
    },
    {
      "cell_type": "markdown",
      "source": "#### 10. [0.5 баллов] Какие виды Burrito существуют? Какой из них чаще всего покупают? Какой из них самый дорогой? ",
      "metadata": {}
    },
    {
      "cell_type": "code",
      "source": "burrito_items = data[data['item_name'].str.contains('Burrito')]\nburrito_types = burrito_items['item_name'].unique()\nfor i, burrito_type in enumerate(sorted(burrito_types), 1):\n    print(f\"{i}. {burrito_type}\")",
      "metadata": {
        "trusted": true
      },
      "outputs": [
        {
          "name": "stdout",
          "output_type": "stream",
          "text": "1. Barbacoa Burrito\n2. Burrito\n3. Carnitas Burrito\n4. Chicken Burrito\n5. Steak Burrito\n6. Veggie Burrito\n"
        }
      ],
      "execution_count": 40
    },
    {
      "cell_type": "code",
      "source": "burrito_items.groupby('item_name').agg({\n    'quantity': 'sum'\n}).sort_values('quantity', ascending=False).iloc[0]",
      "metadata": {
        "trusted": true
      },
      "outputs": [
        {
          "execution_count": 35,
          "output_type": "execute_result",
          "data": {
            "text/plain": "quantity    591\nName: Chicken Burrito, dtype: int64"
          },
          "metadata": {}
        }
      ],
      "execution_count": 35
    },
    {
      "cell_type": "code",
      "source": "burrito_items.groupby('item_name').agg({\n    'item_price_numeric': 'max'\n}).sort_values('item_price_numeric', ascending=False).iloc[0]",
      "metadata": {
        "trusted": true
      },
      "outputs": [
        {
          "execution_count": 36,
          "output_type": "execute_result",
          "data": {
            "text/plain": "item_price_numeric    35.0\nName: Chicken Burrito, dtype: float64"
          },
          "metadata": {}
        }
      ],
      "execution_count": 36
    },
    {
      "cell_type": "markdown",
      "source": "#### 11. [0.75 баллов] В каком количестве заказов есть товар, который стоит более 40% от суммы всего чека?\n\nВозможно, будет удобно посчитать отдельно среднюю стоимость заказа, добавить ее в исходные данные и сделать необходимые проверки.\n\n*Данный комментарий стоит воспринимать как подсказку к одному из вариантов решений задания. Если в вашем варианте решения он не нужнен, это не страшно*",
      "metadata": {
        "collapsed": true,
        "jupyter": {
          "outputs_hidden": true
        }
      }
    },
    {
      "cell_type": "code",
      "source": "def analyze_expensive_items(data, threshold=0.4):\n    order_totals = data.groupby('order_id')['item_price_numeric'].sum().reset_index()\n    order_totals.rename(columns={'item_price_numeric': 'order_total'}, inplace=True)\n\n    orders_with_totals = data.merge(order_totals, on='order_id')\n    \n    orders_with_totals['item_share'] = orders_with_totals['item_price_numeric'] / orders_with_totals['order_total']\n    \n    expensive_items = orders_with_totals[orders_with_totals['item_share'] > threshold]\n    \n    result = {\n        'total_orders': data['order_id'].nunique(),\n        'expensive_item_orders': expensive_items['order_id'].nunique(),\n        'percentage': expensive_items['order_id'].nunique() / data['order_id'].nunique(),\n        'expensive_orders_details': expensive_items,\n        'summary': expensive_items.groupby('order_id').agg({\n            'item_name': 'first',\n            'item_share': 'max',\n            'order_total': 'first'\n        }).reset_index()\n    }\n    \n    return result\n\nresult = analyze_expensive_items(data, threshold=0.4)\nprint(f\"Ответ: {result['expensive_item_orders']} заказов содержат товары дороже 40% от суммы всего чека\")",
      "metadata": {
        "trusted": true
      },
      "outputs": [
        {
          "name": "stdout",
          "output_type": "stream",
          "text": "Ответ: 1624 заказов содержат товары дороже 40% от суммы всего чека\n"
        }
      ],
      "execution_count": 43
    },
    {
      "cell_type": "markdown",
      "source": "#### 12. [0.75 баллов] Предположим, что в данных была ошибка и Diet Coke (choice_description), который стоил $1.25, должен был стоить 1.35. Скорректируйте данные в таблицы и посчитайте, на какой процент больше денег было заработано с этого товара. Не забывайте, что количество товара не всегда равно 1.",
      "metadata": {}
    },
    {
      "cell_type": "code",
      "source": "def diet_coke(data, old_price=1.25, new_price=1.35):\n    \n    adjusted = data.copy()\n    \n    mask = (\n        adjusted['choice_description'].notna() & \n        (\n            adjusted['choice_description'].str.contains('Diet Coke', case=False, na=False) |\n            adjusted['choice_description'].str.contains('DietCoke', case=False, na=False)\n        )\n    )\n    \n    if not mask.any():\n        print(\"Diet Coke не найден. Доступные значения:\")\n        print(adjusted['choice_description'].dropna().unique()[:10])\n        return None\n    \n    print(f\"Найдено записей Diet Coke: {mask.sum()}\")\n    print(f\"Текущая цена: {adjusted.loc[mask, 'item_price_numeric'].unique()}\")\n    \n    adjusted.loc[mask, 'item_price_numeric'] = new_price\n    \n    quantity_total = orders_df.loc[mask, 'quantity'].sum()\n    revenue_before = quantity_total * old_price\n    revenue_after = quantity_total * new_price\n    increase_absolute = revenue_after - revenue_before\n    increase_percent = (increase_absolute / revenue_before) * 100\n    \n    print(f\"\\n=== РЕЗУЛЬТАТЫ ===\")\n    print(f\"Общее количество Diet Coke: {quantity_total}\")\n    print(f\"Выручка до: ${revenue_before:.2f}\")\n    print(f\"Выручка после: ${revenue_after:.2f}\")\n    print(f\"Увеличение: ${increase_absolute:.2f}\")\n    print(f\"Процент увеличения: {increase_percent:.2f}%\")\n    \n    return {\n        'revenue_before': revenue_before,\n        'revenue_after': revenue_after,\n        'increase_absolute': increase_absolute,\n        'increase_percent': increase_percent,\n        'total_quantity': quantity_total,\n        'adjusted_dataframe': adjusted_df\n    }\n\n# Запускаем универсальный поиск\nresult = find_and_correct_diet_coke(orders_df)",
      "metadata": {
        "trusted": true
      },
      "outputs": [
        {
          "ename": "<class 'ValueError'>",
          "evalue": "Cannot mask with non-boolean array containing NA / NaN values",
          "traceback": [
            "\u001b[0;31m---------------------------------------------------------------------------\u001b[0m",
            "\u001b[0;31mValueError\u001b[0m                                Traceback (most recent call last)",
            "Cell \u001b[0;32mIn[44], line 35\u001b[0m\n\u001b[1;32m     23\u001b[0m     result \u001b[38;5;241m=\u001b[39m {\n\u001b[1;32m     24\u001b[0m         \u001b[38;5;124m'\u001b[39m\u001b[38;5;124mrevenue_before\u001b[39m\u001b[38;5;124m'\u001b[39m: revenue_before,\n\u001b[1;32m     25\u001b[0m         \u001b[38;5;124m'\u001b[39m\u001b[38;5;124mrevenue_after\u001b[39m\u001b[38;5;124m'\u001b[39m: revenue_after,\n\u001b[0;32m   (...)\u001b[0m\n\u001b[1;32m     30\u001b[0m         \u001b[38;5;124m'\u001b[39m\u001b[38;5;124madjusted_dataframe\u001b[39m\u001b[38;5;124m'\u001b[39m: adjusted\n\u001b[1;32m     31\u001b[0m     }\n\u001b[1;32m     33\u001b[0m     \u001b[38;5;28;01mreturn\u001b[39;00m result\n\u001b[0;32m---> 35\u001b[0m result \u001b[38;5;241m=\u001b[39m \u001b[43manalyze_price_correction\u001b[49m\u001b[43m(\u001b[49m\u001b[43mdata\u001b[49m\u001b[43m,\u001b[49m\u001b[43m \u001b[49m\u001b[38;5;124;43m'\u001b[39;49m\u001b[38;5;124;43mDiet Coke\u001b[39;49m\u001b[38;5;124;43m'\u001b[39;49m\u001b[43m,\u001b[49m\u001b[43m \u001b[49m\u001b[38;5;241;43m1.25\u001b[39;49m\u001b[43m,\u001b[49m\u001b[43m \u001b[49m\u001b[38;5;241;43m1.35\u001b[39;49m\u001b[43m)\u001b[49m\n\u001b[1;32m     36\u001b[0m \u001b[38;5;28;01mif\u001b[39;00m result:\n\u001b[1;32m     37\u001b[0m     \u001b[38;5;28mprint\u001b[39m(\u001b[38;5;124m\"\u001b[39m\u001b[38;5;124m=== РЕЗУЛЬТАТЫ КОРРЕКТИРОВКИ ЦЕНЫ ===\u001b[39m\u001b[38;5;124m\"\u001b[39m)\n",
            "Cell \u001b[0;32mIn[44], line 11\u001b[0m, in \u001b[0;36manalyze_price_correction\u001b[0;34m(data, product_description, old_price, new_price)\u001b[0m\n\u001b[1;32m      8\u001b[0m     \u001b[38;5;28mprint\u001b[39m(\u001b[38;5;124mf\u001b[39m\u001b[38;5;124m\"\u001b[39m\u001b[38;5;124mТовар \u001b[39m\u001b[38;5;124m'\u001b[39m\u001b[38;5;132;01m{\u001b[39;00mproduct_description\u001b[38;5;132;01m}\u001b[39;00m\u001b[38;5;124m'\u001b[39m\u001b[38;5;124m не найден в данных\u001b[39m\u001b[38;5;124m\"\u001b[39m)\n\u001b[1;32m      9\u001b[0m     \u001b[38;5;28;01mreturn\u001b[39;00m \u001b[38;5;28;01mNone\u001b[39;00m\n\u001b[0;32m---> 11\u001b[0m \u001b[43madjusted\u001b[49m\u001b[38;5;241;43m.\u001b[39;49m\u001b[43mloc\u001b[49m\u001b[43m[\u001b[49m\u001b[43mproduct_mask\u001b[49m\u001b[43m,\u001b[49m\u001b[43m \u001b[49m\u001b[38;5;124;43m'\u001b[39;49m\u001b[38;5;124;43mitem_price_numeric\u001b[39;49m\u001b[38;5;124;43m'\u001b[39;49m\u001b[43m]\u001b[49m \u001b[38;5;241m=\u001b[39m new_price\n\u001b[1;32m     13\u001b[0m revenue_before \u001b[38;5;241m=\u001b[39m (data\u001b[38;5;241m.\u001b[39mloc[product_mask, \u001b[38;5;124m'\u001b[39m\u001b[38;5;124mprice\u001b[39m\u001b[38;5;124m'\u001b[39m] \u001b[38;5;241m*\u001b[39m data\u001b[38;5;241m.\u001b[39mloc[product_mask, \u001b[38;5;124m'\u001b[39m\u001b[38;5;124mquantity\u001b[39m\u001b[38;5;124m'\u001b[39m])\u001b[38;5;241m.\u001b[39msum()\n\u001b[1;32m     14\u001b[0m revenue_after \u001b[38;5;241m=\u001b[39m (adjusted\u001b[38;5;241m.\u001b[39mloc[product_mask, \u001b[38;5;124m'\u001b[39m\u001b[38;5;124mprice\u001b[39m\u001b[38;5;124m'\u001b[39m] \u001b[38;5;241m*\u001b[39m adjusted\u001b[38;5;241m.\u001b[39mloc[product_mask, \u001b[38;5;124m'\u001b[39m\u001b[38;5;124mquantity\u001b[39m\u001b[38;5;124m'\u001b[39m])\u001b[38;5;241m.\u001b[39msum()\n",
            "File \u001b[0;32m/lib/python3.12/site-packages/pandas/core/indexing.py:907\u001b[0m, in \u001b[0;36m_LocationIndexer.__setitem__\u001b[0;34m(self, key, value)\u001b[0m\n\u001b[1;32m    905\u001b[0m     maybe_callable \u001b[38;5;241m=\u001b[39m com\u001b[38;5;241m.\u001b[39mapply_if_callable(key, \u001b[38;5;28mself\u001b[39m\u001b[38;5;241m.\u001b[39mobj)\n\u001b[1;32m    906\u001b[0m     key \u001b[38;5;241m=\u001b[39m \u001b[38;5;28mself\u001b[39m\u001b[38;5;241m.\u001b[39m_check_deprecated_callable_usage(key, maybe_callable)\n\u001b[0;32m--> 907\u001b[0m indexer \u001b[38;5;241m=\u001b[39m \u001b[38;5;28;43mself\u001b[39;49m\u001b[38;5;241;43m.\u001b[39;49m\u001b[43m_get_setitem_indexer\u001b[49m\u001b[43m(\u001b[49m\u001b[43mkey\u001b[49m\u001b[43m)\u001b[49m\n\u001b[1;32m    908\u001b[0m \u001b[38;5;28mself\u001b[39m\u001b[38;5;241m.\u001b[39m_has_valid_setitem_indexer(key)\n\u001b[1;32m    910\u001b[0m iloc \u001b[38;5;241m=\u001b[39m \u001b[38;5;28mself\u001b[39m \u001b[38;5;28;01mif\u001b[39;00m \u001b[38;5;28mself\u001b[39m\u001b[38;5;241m.\u001b[39mname \u001b[38;5;241m==\u001b[39m \u001b[38;5;124m\"\u001b[39m\u001b[38;5;124miloc\u001b[39m\u001b[38;5;124m\"\u001b[39m \u001b[38;5;28;01melse\u001b[39;00m \u001b[38;5;28mself\u001b[39m\u001b[38;5;241m.\u001b[39mobj\u001b[38;5;241m.\u001b[39miloc\n",
            "File \u001b[0;32m/lib/python3.12/site-packages/pandas/core/indexing.py:774\u001b[0m, in \u001b[0;36m_LocationIndexer._get_setitem_indexer\u001b[0;34m(self, key)\u001b[0m\n\u001b[1;32m    771\u001b[0m \u001b[38;5;28;01mif\u001b[39;00m \u001b[38;5;28misinstance\u001b[39m(key, \u001b[38;5;28mtuple\u001b[39m):\n\u001b[1;32m    772\u001b[0m     \u001b[38;5;28;01mwith\u001b[39;00m suppress(IndexingError):\n\u001b[1;32m    773\u001b[0m         \u001b[38;5;66;03m# suppress \"Too many indexers\"\u001b[39;00m\n\u001b[0;32m--> 774\u001b[0m         \u001b[38;5;28;01mreturn\u001b[39;00m \u001b[38;5;28;43mself\u001b[39;49m\u001b[38;5;241;43m.\u001b[39;49m\u001b[43m_convert_tuple\u001b[49m\u001b[43m(\u001b[49m\u001b[43mkey\u001b[49m\u001b[43m)\u001b[49m\n\u001b[1;32m    776\u001b[0m \u001b[38;5;28;01mif\u001b[39;00m \u001b[38;5;28misinstance\u001b[39m(key, \u001b[38;5;28mrange\u001b[39m):\n\u001b[1;32m    777\u001b[0m     \u001b[38;5;66;03m# GH#45479 test_loc_setitem_range_key\u001b[39;00m\n\u001b[1;32m    778\u001b[0m     key \u001b[38;5;241m=\u001b[39m \u001b[38;5;28mlist\u001b[39m(key)\n",
            "File \u001b[0;32m/lib/python3.12/site-packages/pandas/core/indexing.py:989\u001b[0m, in \u001b[0;36m_LocationIndexer._convert_tuple\u001b[0;34m(self, key)\u001b[0m\n\u001b[1;32m    985\u001b[0m \u001b[38;5;129m@final\u001b[39m\n\u001b[1;32m    986\u001b[0m \u001b[38;5;28;01mdef\u001b[39;00m \u001b[38;5;21m_convert_tuple\u001b[39m(\u001b[38;5;28mself\u001b[39m, key: \u001b[38;5;28mtuple\u001b[39m) \u001b[38;5;241m-\u001b[39m\u001b[38;5;241m>\u001b[39m \u001b[38;5;28mtuple\u001b[39m:\n\u001b[1;32m    987\u001b[0m     \u001b[38;5;66;03m# Note: we assume _tupleize_axis_indexer has been called, if necessary.\u001b[39;00m\n\u001b[1;32m    988\u001b[0m     \u001b[38;5;28mself\u001b[39m\u001b[38;5;241m.\u001b[39m_validate_key_length(key)\n\u001b[0;32m--> 989\u001b[0m     keyidx \u001b[38;5;241m=\u001b[39m [\u001b[38;5;28;43mself\u001b[39;49m\u001b[38;5;241;43m.\u001b[39;49m\u001b[43m_convert_to_indexer\u001b[49m\u001b[43m(\u001b[49m\u001b[43mk\u001b[49m\u001b[43m,\u001b[49m\u001b[43m \u001b[49m\u001b[43maxis\u001b[49m\u001b[38;5;241;43m=\u001b[39;49m\u001b[43mi\u001b[49m\u001b[43m)\u001b[49m \u001b[38;5;28;01mfor\u001b[39;00m i, k \u001b[38;5;129;01min\u001b[39;00m \u001b[38;5;28menumerate\u001b[39m(key)]\n\u001b[1;32m    990\u001b[0m     \u001b[38;5;28;01mreturn\u001b[39;00m \u001b[38;5;28mtuple\u001b[39m(keyidx)\n",
            "File \u001b[0;32m/lib/python3.12/site-packages/pandas/core/indexing.py:1518\u001b[0m, in \u001b[0;36m_LocIndexer._convert_to_indexer\u001b[0;34m(self, key, axis)\u001b[0m\n\u001b[1;32m   1515\u001b[0m \u001b[38;5;28;01mif\u001b[39;00m is_iterator(key):\n\u001b[1;32m   1516\u001b[0m     key \u001b[38;5;241m=\u001b[39m \u001b[38;5;28mlist\u001b[39m(key)\n\u001b[0;32m-> 1518\u001b[0m \u001b[38;5;28;01mif\u001b[39;00m \u001b[43mcom\u001b[49m\u001b[38;5;241;43m.\u001b[39;49m\u001b[43mis_bool_indexer\u001b[49m\u001b[43m(\u001b[49m\u001b[43mkey\u001b[49m\u001b[43m)\u001b[49m:\n\u001b[1;32m   1519\u001b[0m     key \u001b[38;5;241m=\u001b[39m check_bool_indexer(labels, key)\n\u001b[1;32m   1520\u001b[0m     \u001b[38;5;28;01mreturn\u001b[39;00m key\n",
            "File \u001b[0;32m/lib/python3.12/site-packages/pandas/core/common.py:136\u001b[0m, in \u001b[0;36mis_bool_indexer\u001b[0;34m(key)\u001b[0m\n\u001b[1;32m    132\u001b[0m     na_msg \u001b[38;5;241m=\u001b[39m \u001b[38;5;124m\"\u001b[39m\u001b[38;5;124mCannot mask with non-boolean array containing NA / NaN values\u001b[39m\u001b[38;5;124m\"\u001b[39m\n\u001b[1;32m    133\u001b[0m     \u001b[38;5;28;01mif\u001b[39;00m lib\u001b[38;5;241m.\u001b[39mis_bool_array(key_array, skipna\u001b[38;5;241m=\u001b[39m\u001b[38;5;28;01mTrue\u001b[39;00m):\n\u001b[1;32m    134\u001b[0m         \u001b[38;5;66;03m# Don't raise on e.g. [\"A\", \"B\", np.nan], see\u001b[39;00m\n\u001b[1;32m    135\u001b[0m         \u001b[38;5;66;03m#  test_loc_getitem_list_of_labels_categoricalindex_with_na\u001b[39;00m\n\u001b[0;32m--> 136\u001b[0m         \u001b[38;5;28;01mraise\u001b[39;00m \u001b[38;5;167;01mValueError\u001b[39;00m(na_msg)\n\u001b[1;32m    137\u001b[0m     \u001b[38;5;28;01mreturn\u001b[39;00m \u001b[38;5;28;01mFalse\u001b[39;00m\n\u001b[1;32m    138\u001b[0m \u001b[38;5;28;01mreturn\u001b[39;00m \u001b[38;5;28;01mTrue\u001b[39;00m\n",
            "\u001b[0;31mValueError\u001b[0m: Cannot mask with non-boolean array containing NA / NaN values"
          ],
          "output_type": "error"
        }
      ],
      "execution_count": 44
    },
    {
      "cell_type": "markdown",
      "source": "#### 13. [0.75 баллов] Создайте новый DateFrame из матрицы, созданной ниже. Назовите колонки index, column1, column2 и сделайте первую колонку индексом.",
      "metadata": {}
    },
    {
      "cell_type": "code",
      "source": "matrix = [\n    [1, \"Убийственный класс\", \"комедия/боевик\"],\n    [2, \"Стальной Алхимик: Братство\", \"боевик\"],\n    [3, \"Саики Кусуо\", \"комедия\"],\n    [4, \"Твоя апрельская ложь\", \"романтика/драма\"],\n    [5, \"Нитидзё\", \"комедия\"],\n    [6, \"Steins;Gate\", \"фантастика/триллер\"],\n    [7, \"Хоримия\", \"романтика\"],\n    [8, \"Моя геройская академия\", \"комедия/боевик\"],\n    [9, \"Fate/Zero\", \"триллер/боевик\"],\n    [10, \"Корзинка фруктов\", \"романтика\"],\n    [11, \"Плутон\", \"триллер/боевик\"],\n    [12, \"Галактика Татами\", \"комедия/фантастика\"],\n    [13, \"Атака титанов\", \"боевик/триллер\"],\n    [14, \"Ковбой Бибоп\", \"фантастика/боевик\"],\n    [15, \"Шова Генроку Ракуго Синдзю\", \"драма\"]\n]\n\nanime = pd.DataFrame(matrix, columns=['index', 'column1', 'column2'])\n\nanime.set_index('index')",
      "metadata": {
        "trusted": true
      },
      "outputs": [
        {
          "execution_count": 21,
          "output_type": "execute_result",
          "data": {
            "text/plain": "                          column1             column2\nindex                                                \n1              Убийственный класс      комедия/боевик\n2      Стальной Алхимик: Братство              боевик\n3                     Саики Кусуо             комедия\n4            Твоя апрельская ложь     романтика/драма\n5                         Нитидзё             комедия\n6                     Steins;Gate  фантастика/триллер\n7                         Хоримия           романтика\n8          Моя геройская академия      комедия/боевик\n9                       Fate/Zero      триллер/боевик\n10               Корзинка фруктов           романтика\n11                         Плутон      триллер/боевик\n12               Галактика Татами  комедия/фантастика\n13                  Атака титанов      боевик/триллер\n14                   Ковбой Бибоп   фантастика/боевик\n15     Шова Генроку Ракуго Синдзю               драма",
            "text/html": "<div>\n<style scoped>\n    .dataframe tbody tr th:only-of-type {\n        vertical-align: middle;\n    }\n\n    .dataframe tbody tr th {\n        vertical-align: top;\n    }\n\n    .dataframe thead th {\n        text-align: right;\n    }\n</style>\n<table border=\"1\" class=\"dataframe\">\n  <thead>\n    <tr style=\"text-align: right;\">\n      <th></th>\n      <th>column1</th>\n      <th>column2</th>\n    </tr>\n    <tr>\n      <th>index</th>\n      <th></th>\n      <th></th>\n    </tr>\n  </thead>\n  <tbody>\n    <tr>\n      <th>1</th>\n      <td>Убийственный класс</td>\n      <td>комедия/боевик</td>\n    </tr>\n    <tr>\n      <th>2</th>\n      <td>Стальной Алхимик: Братство</td>\n      <td>боевик</td>\n    </tr>\n    <tr>\n      <th>3</th>\n      <td>Саики Кусуо</td>\n      <td>комедия</td>\n    </tr>\n    <tr>\n      <th>4</th>\n      <td>Твоя апрельская ложь</td>\n      <td>романтика/драма</td>\n    </tr>\n    <tr>\n      <th>5</th>\n      <td>Нитидзё</td>\n      <td>комедия</td>\n    </tr>\n    <tr>\n      <th>6</th>\n      <td>Steins;Gate</td>\n      <td>фантастика/триллер</td>\n    </tr>\n    <tr>\n      <th>7</th>\n      <td>Хоримия</td>\n      <td>романтика</td>\n    </tr>\n    <tr>\n      <th>8</th>\n      <td>Моя геройская академия</td>\n      <td>комедия/боевик</td>\n    </tr>\n    <tr>\n      <th>9</th>\n      <td>Fate/Zero</td>\n      <td>триллер/боевик</td>\n    </tr>\n    <tr>\n      <th>10</th>\n      <td>Корзинка фруктов</td>\n      <td>романтика</td>\n    </tr>\n    <tr>\n      <th>11</th>\n      <td>Плутон</td>\n      <td>триллер/боевик</td>\n    </tr>\n    <tr>\n      <th>12</th>\n      <td>Галактика Татами</td>\n      <td>комедия/фантастика</td>\n    </tr>\n    <tr>\n      <th>13</th>\n      <td>Атака титанов</td>\n      <td>боевик/триллер</td>\n    </tr>\n    <tr>\n      <th>14</th>\n      <td>Ковбой Бибоп</td>\n      <td>фантастика/боевик</td>\n    </tr>\n    <tr>\n      <th>15</th>\n      <td>Шова Генроку Ракуго Синдзю</td>\n      <td>драма</td>\n    </tr>\n  </tbody>\n</table>\n</div>"
          },
          "metadata": {}
        }
      ],
      "execution_count": 21
    },
    {
      "cell_type": "markdown",
      "source": "Сохраните DataFrame на диск в формате csv без индексов и названий столбцов.",
      "metadata": {}
    },
    {
      "cell_type": "code",
      "source": "anime.to_csv('anime.csv', index=False, header=False)",
      "metadata": {
        "trusted": true
      },
      "outputs": [],
      "execution_count": 22
    },
    {
      "cell_type": "markdown",
      "source": "## 2. Визуализации и matplotlib",
      "metadata": {}
    },
    {
      "cell_type": "markdown",
      "source": "При работе с данными часто неудобно делать какие-то выводы, если смотреть на таблицу и числа в частности, поэтому важно уметь визуализировать данные. В этом разделе мы этим и займёмся.\n\nУ matplotlib, конечно, же есть [документация](https://matplotlib.org/users/index.html) с большим количеством [примеров](https://matplotlib.org/examples/), но для начала достаточно знать про несколько основных типов графиков:\n- plot — обычный поточечный график, которым можно изображать кривые или отдельные точки;\n- hist — гистограмма, показывающая распределение некоторое величины;\n- scatter — график, показывающий взаимосвязь двух величин;\n- bar — столбцовый график, показывающий взаимосвязь количественной величины от категориальной.\n\nВ этом задании вы попробуете построить каждый из них. Не менее важно усвоить базовые принципы визуализаций:\n- на графиках должны быть подписаны оси;\n- у визуализации должно быть название;\n- если изображено несколько графиков, то необходима поясняющая легенда;\n- все линии на графиках должны быть чётко видны (нет похожих цветов или цветов, сливающихся с фоном);\n- если отображена величина, имеющая очевидный диапазон значений (например, проценты могут быть от 0 до 100), то желательно масштабировать ось на весь диапазон значений (исключением является случай, когда вам необходимо показать малое отличие, которое незаметно в таких масштабах).\n- сетка на графике помогает оценить значения в точках на глаз, это обычно полезно, поэтому лучше ее отрисовывать.",
      "metadata": {}
    },
    {
      "cell_type": "code",
      "source": "%matplotlib inline  # нужно для отображения графиков внутри ноутбука\nimport matplotlib.pyplot as plt",
      "metadata": {},
      "outputs": [],
      "execution_count": null
    },
    {
      "cell_type": "markdown",
      "source": "На самом деле мы уже импортировали matplotlib внутри %pylab inline в начале задания.\n\nРаботать мы будем с той же выборкой покупкок. Добавим новую колонку с датой покупки.",
      "metadata": {}
    },
    {
      "cell_type": "code",
      "source": "import datetime\n\nstart = datetime.datetime(2018, 1, 1)\nend = datetime.datetime(2018, 1, 31)\ndelta_seconds = int((end - start).total_seconds())\n\ndates = pd.DataFrame(index=df.order_id.unique())\ndates['date'] = [\n    (start + datetime.timedelta(seconds=random.randint(0, delta_seconds))).strftime('%Y-%m-%d')\n    for _ in range(df.order_id.nunique())]\n\n# если DataFrame с покупками из прошлого заказа называется не df, замените на ваше название ниже\ndf['date'] = df.order_id.map(dates['date'])",
      "metadata": {},
      "outputs": [],
      "execution_count": null
    },
    {
      "cell_type": "markdown",
      "source": "#### 1. [1 балл] Постройте гистограмму распределения сумм покупок и гистограмму средних цен отдельных видов продуктов item_name. \n\nИзображайте на двух соседних графиках. Для этого может быть полезен subplot.",
      "metadata": {}
    },
    {
      "cell_type": "code",
      "source": "# your code",
      "metadata": {},
      "outputs": [],
      "execution_count": null
    },
    {
      "cell_type": "markdown",
      "source": "#### 2. [1 балл] Постройте график зависимости суммы покупок от дней.",
      "metadata": {}
    },
    {
      "cell_type": "code",
      "source": "# your code",
      "metadata": {},
      "outputs": [],
      "execution_count": null
    },
    {
      "cell_type": "markdown",
      "source": "#### 3. [1 балл] Постройте средних сумм покупок по дням недели (bar plot).",
      "metadata": {}
    },
    {
      "cell_type": "code",
      "source": "# your code",
      "metadata": {},
      "outputs": [],
      "execution_count": null
    },
    {
      "cell_type": "markdown",
      "source": "#### 4. [1 балл] Постройте график зависимости денег за товар от купленного количества (scatter plot).",
      "metadata": {}
    },
    {
      "cell_type": "code",
      "source": "# your code",
      "metadata": {},
      "outputs": [],
      "execution_count": null
    },
    {
      "cell_type": "markdown",
      "source": "Сохраните график в формате pdf (так он останется векторизованным).",
      "metadata": {}
    },
    {
      "cell_type": "code",
      "source": "# your code",
      "metadata": {},
      "outputs": [],
      "execution_count": null
    },
    {
      "cell_type": "markdown",
      "source": "Еще одна билиотека для визуализации: [seaborn](https://jakevdp.github.io/PythonDataScienceHandbook/04.14-visualization-with-seaborn.html). Это настройка над matplotlib, иногда удобнее и красивее делать визуализации через неё. ",
      "metadata": {}
    }
  ]
}