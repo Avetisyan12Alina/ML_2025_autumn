{
 "cells": [
  {
   "cell_type": "markdown",
   "metadata": {},
   "source": [
    "# Домашнее задание 2 - предобработка признаков, pandas\n",
    "\n",
    "\n",
    "### О задании\n",
    "\n",
    "Практическое задание 2 посвящено изучению основных библиотек для анализа данных, а также линейных моделей и методов их обучения. Вы научитесь:\n",
    " * применять библиотеки NumPy и Pandas для осуществления желаемых преобразований;\n",
    " * подготавливать данные для обучения линейных моделей;\n",
    " * обучать линейную, Lasso и Ridge-регрессии при помощи модуля scikit-learn;\n",
    " * реализовывать обычный и стохастический градиентные спуски;\n",
    " * обучать линейную регрессию для произвольного функционала качества.\n",
    " \n",
    "\n",
    "### Оценивание и штрафы\n",
    "\n",
    "Каждая из задач имеет определенную «стоимость» (указана в скобках около задачи). Максимально допустимая оценка за работу — 10 баллов. Кроме того, некоторые из заданий являются опциональными (необязательными), однако за их выполнение можно получить дополнительные баллы, которые позднее будут учитываться при проставлении оценок автоматом по курсу.\n",
    "\n",
    "Сдавать задание после указанного срока сдачи нельзя. При выставлении неполного балла за задание в связи с наличием ошибок на усмотрение проверяющего предусмотрена возможность исправить работу на указанных в ответном письме условиях.\n",
    "\n",
    "Задание выполняется самостоятельно. «Похожие» решения считаются плагиатом и все задействованные студенты (в том числе те, у кого списали) не могут получить за него больше 0 баллов. Если вы нашли решение какого-то из заданий (или его часть) в открытом источнике, необходимо указать ссылку на этот источник в отдельном блоке в конце Вашей работы (скорее всего вы будете не единственным, кто это нашел, поэтому чтобы исключить подозрение в плагиате, необходима ссылка на источник). \n",
    "\n",
    "Неэффективная реализация кода может негативно отразиться на оценке.\n",
    "\n",
    "\n",
    "### Формат сдачи\n",
    "Для сдачи задания получившийся файл \\*.ipynb с решением необходимо выложить в свой репозиторий github."
   ]
  },
  {
   "cell_type": "markdown",
   "metadata": {},
   "source": [
    "## Библиотеки для анализа данных\n",
    "\n",
    "### NumPy\n",
    "\n",
    "Во всех заданиях данного раздела запрещено использовать циклы  и list comprehensions. Под вектором и матрицей в данных заданиях понимается одномерный и двумерный numpy.array соответственно."
   ]
  },
  {
   "cell_type": "code",
   "execution_count": 88,
   "metadata": {},
   "outputs": [],
   "source": [
    "import numpy as np"
   ]
  },
  {
   "cell_type": "markdown",
   "metadata": {},
   "source": [
    "**1. (0.2 балла)** Реализуйте функцию, возвращающую максимальный элемент в векторе x среди элементов, перед которыми стоит нулевой. Для x = np.array([6, 2, 0, 3, 0, 0, 5, 7, 0]) ответом является 5. Если нулевых элементов нет, функция должна возвращать None.\n"
   ]
  },
  {
   "cell_type": "code",
   "execution_count": 89,
   "metadata": {},
   "outputs": [
    {
     "name": "stdout",
     "output_type": "stream",
     "text": [
      "5\n"
     ]
    }
   ],
   "source": [
    "def max_element(arr):\n",
    "   zero_indices = np.flatnonzero(arr[:-1] == 0) + 1\n",
    "   return arr[zero_indices].max() if zero_indices.size > 0 else None\n",
    "\n",
    "x = np.array([6, 2, 0, 3, 0, 0, 5, 7, 0])\n",
    "print(max_element(x)) "
   ]
  },
  {
   "cell_type": "markdown",
   "metadata": {},
   "source": [
    "**2. (0.2 балла)** Реализуйте функцию, принимающую на вход матрицу и некоторое число и возвращающую ближайший к числу элемент матрицы. Например: для X = np.arange(0,10).reshape((2, 5)) и v = 3.6 ответом будет 4."
   ]
  },
  {
   "cell_type": "code",
   "execution_count": 90,
   "metadata": {
    "collapsed": true
   },
   "outputs": [
    {
     "name": "stdout",
     "output_type": "stream",
     "text": [
      "4\n"
     ]
    }
   ],
   "source": [
    "def nearest_value(X, v):\n",
    "    idx = np.argmin(np.abs(X - v))\n",
    "    return X.flatten()[idx]\n",
    "\n",
    "X = np.arange(0,10).reshape((2, 5))\n",
    "v = 3.6\n",
    "print(nearest_value(X, v))"
   ]
  },
  {
   "cell_type": "markdown",
   "metadata": {},
   "source": [
    "**3. (0.2 балла)** Реализуйте функцию scale(X), которая принимает на вход матрицу и масштабирует каждый ее столбец (вычитает выборочное среднее и делит на стандартное отклонение). Убедитесь, что в функции не будет происходить деления на ноль. Протестируйте на случайной матрице (для её генерации можно использовать, например, функцию [numpy.random.randint](http://docs.scipy.org/doc/numpy/reference/generated/numpy.random.randint.html))."
   ]
  },
  {
   "cell_type": "code",
   "execution_count": 91,
   "metadata": {
    "collapsed": true
   },
   "outputs": [
    {
     "name": "stdout",
     "output_type": "stream",
     "text": [
      "Исходная матрица:\n",
      "[[8 2 9 1 4]\n",
      " [3 4 7 2 2]\n",
      " [9 3 3 4 9]\n",
      " [4 7 6 7 5]\n",
      " [9 2 8 2 6]]\n",
      "\n",
      "Масштабированная матрица:\n",
      "[[ 0.54330537 -0.86266219  1.16554303 -1.03024439 -0.51832106]\n",
      " [-1.39707095  0.21566555  0.19425717 -0.56195149 -1.38218948]\n",
      " [ 0.93138063 -0.32349832 -1.74831455  0.37463432  1.64135001]\n",
      " [-1.00899568  1.83315714 -0.29138576  1.77951304 -0.08638684]\n",
      " [ 0.93138063 -0.86266219  0.6799001  -0.56195149  0.34554737]]\n"
     ]
    }
   ],
   "source": [
    "def scale(X):\n",
    "    mean = np.mean(X, axis=0)\n",
    "    stds = np.std(X, axis=0)\n",
    "    stds_safe = np.where(stds == 0, 1, stds)\n",
    "    X_scaled = (X - mean) / stds_safe\n",
    "    return X_scaled\n",
    "\n",
    "X = np.random.randint(1, 10, size=(5, 5))\n",
    "print(\"Исходная матрица:\")\n",
    "print(X)\n",
    "\n",
    "X_scaled = scale(X)\n",
    "print(\"\\nМасштабированная матрица:\")\n",
    "print(X_scaled)"
   ]
  },
  {
   "cell_type": "markdown",
   "metadata": {},
   "source": [
    "**4. (0.2 балла)** Реализуйте функцию, которая для заданной матрицы находит:\n",
    " - определитель\n",
    " - след\n",
    " - наименьший и наибольший элементы\n",
    " - норму Фробениуса\n",
    " - собственные числа\n",
    " - обратную матрицу\n",
    "\n",
    "Для тестирования сгенерируйте матрицу с элементами из нормального распределения $\\mathcal{N}$(10,1)"
   ]
  },
  {
   "cell_type": "code",
   "execution_count": 92,
   "metadata": {},
   "outputs": [
    {
     "name": "stdout",
     "output_type": "stream",
     "text": [
      "determinant: -221.59826018091331\n",
      "trace: 46.528635927755424\n",
      "min_element: 8.1453502384973\n",
      "max_element: 11.780139285992231\n",
      "frobenius_norm: 49.25907185144863\n",
      "eigenvalues: [49.05529038+0.j         -1.93789965+0.j         -0.70526155+1.52945004j\n",
      " -0.70526155-1.52945004j  0.8217683 +0.j        ]\n",
      "inverse: [[-0.30361316  0.55874611  0.15327744 -0.68373285  0.29463632]\n",
      " [ 0.05714372  0.15079648  0.37663365 -0.62800534  0.04110059]\n",
      " [ 0.15307083 -0.58462658 -0.22255356  0.433402    0.23860964]\n",
      " [-0.14040488 -0.42704155  0.05266389  0.83259096 -0.30847397]\n",
      " [ 0.23063122  0.28191224 -0.33242741  0.10892466 -0.23322654]]\n"
     ]
    }
   ],
   "source": [
    "def get_stats(X):\n",
    "    stats = {}\n",
    "    \n",
    "    stats['determinant'] = np.linalg.det(X)\n",
    "    stats['trace'] = np.trace(X)\n",
    "    stats['min_element'] = np.min(X)\n",
    "    stats['max_element'] = np.max(X)\n",
    "    stats['frobenius_norm'] = np.linalg.norm(X, 'fro')\n",
    "    stats['eigenvalues'] = np.linalg.eigvals(X)\n",
    "    \n",
    "    if X.shape[0] == X.shape[1] and np.linalg.det(X) != 0:\n",
    "        stats['inverse'] = np.linalg.inv(X)\n",
    "    else:\n",
    "        stats['inverse'] = 'Матрица не обратима'\n",
    "    \n",
    "    return stats\n",
    "\n",
    "X = np.random.normal(10, 1, size=(5, 5))\n",
    "stats = get_stats(X)\n",
    "for key, value in stats.items():\n",
    "    print(f\"{key}: {value}\")"
   ]
  },
  {
   "cell_type": "markdown",
   "metadata": {},
   "source": [
    "**5. (0.2 балла)** Повторите 100 раз следующий эксперимент: сгенерируйте две матрицы размера 10×10 из стандартного нормального распределения, перемножьте их (как матрицы) и найдите максимальный элемент. Какое среднее значение по экспериментам у максимальных элементов? 95-процентная квантиль?"
   ]
  },
  {
   "cell_type": "code",
   "execution_count": 94,
   "metadata": {
    "collapsed": true
   },
   "outputs": [
    {
     "name": "stdout",
     "output_type": "stream",
     "text": [
      "Среднее значение максимальных элементов: 8.2827\n",
      "95-процентная квантиль: 12.3836\n"
     ]
    }
   ],
   "source": [
    "max_elements = []\n",
    "for exp_num in range(100):\n",
    "    A = np.random.randn(10, 10)\n",
    "    B = np.random.randn(10, 10)\n",
    "    C = A @ B\n",
    "    \n",
    "    max_elements.append(np.max(C))\n",
    "\n",
    "max_elements = np.array(max_elements)\n",
    "\n",
    "print(f\"Среднее значение максимальных элементов: {np.mean(max_elements):.4f}\")\n",
    "print(f\"95-процентная квантиль: {np.percentile(max_elements, 95):.4f}\")"
   ]
  },
  {
   "cell_type": "markdown",
   "metadata": {},
   "source": [
    "### Pandas\n",
    "\n",
    "![](https://metrouk2.files.wordpress.com/2015/10/panda.jpg)\n",
    "\n",
    "#### Ответьте на вопросы о данных по авиарейсам в США за январь-апрель 2008 года.\n",
    "\n",
    "Данные находятся в приложенном файле `2008.csv`. Их [описание](http://stat-computing.org/dataexpo/2009/the-data.html) приведено ниже:"
   ]
  },
  {
   "cell_type": "markdown",
   "metadata": {},
   "source": [
    "Airline on-time performance\n",
    "\n",
    "Have you ever been stuck in an airport because your flight was delayed or cancelled and wondered if you could have predicted it if you'd had more data? This is your chance to find out.\n",
    "\n",
    "The data\n",
    "The data set is available for download here.\n",
    "The data consists of flight arrival and departure details for all commercial flights within the USA, from October 1987 to April 2008. This is a large dataset: there are nearly 120 million records in total, and takes up 1.6 gigabytes of space compressed and 12 gigabytes when uncompressed.\n",
    "\n",
    "Understanding and preparing the data\n",
    "In order to answer above questions, we are going to analyze the provided dataset, containing up to 1936758 ### different internal flights in the US for 2008 and their causes for delay, diversion and cancellation\n",
    "\n",
    "The data comes from the U.S. Department of Transportation’s (DOT) Bureau of Transportation Statistics (BTS). Meta data explanations\n",
    "\n",
    "This dataset is composed by the following variables:\n",
    "\n",
    "**Year** 2008 **Month** 1-12 **DayofMonth** 1-31 **DayOfWeek** 1 (Monday) - 7 (Sunday)  \n",
    "**DepTime** actual departure time (local, hhmm)  \n",
    "**CRSDepTime** scheduled departure time (local, hhmm)  \n",
    "**ArrTime** actual arrival time (local, hhmm)  \n",
    "**CRSArrTime** scheduled arrival time (local, hhmm)  \n",
    "**UniqueCarrier** unique carrier code  \n",
    "**FlightNum** flight number  \n",
    "**TailNum** plane tail number: aircraft registration, unique aircraft identifier  \n",
    "**ActualElapsedTime** in minutes  \n",
    "**CRSElapsedTime** in minutes  \n",
    "**AirTime** in minutes  \n",
    "**ArrDelay** arrival delay, in minutes: A flight is counted as “on time” if it operated less than 15 minutes later the scheduled time shown in the carriers’ Computerized Reservations Systems (CRS).  \n",
    "**DepDelay** departure delay, in minutes  \n",
    "**Origin** origin IATA airport code  \n",
    "**Dest** destination IATA airport code  \n",
    "**Distance** in miles  \n",
    "**TaxiIn** taxi in time, in minutes  \n",
    "**TaxiOut** taxi out time in minutes  \n",
    "**Cancelled** *was the flight cancelled  \n",
    "**CancellationCode** reason for cancellation (A = carrier, B = weather, C = NAS, D = security)  \n",
    "**Diverted** 1 = yes, 0 = no  \n",
    "**CarrierDelay** in minutes: Carrier delay is within the control of the air carrier. Examples of occurrences that may determine carrier delay are: aircraft cleaning, aircraft damage, awaiting the arrival of connecting passengers or crew, baggage, bird strike, cargo loading, catering, computer, outage-carrier equipment, crew legality (pilot or attendant rest), damage by hazardous goods, engineering inspection, fueling, handling disabled passengers, late crew, lavatory servicing, maintenance, oversales, potable water servicing, removal of unruly passenger, slow boarding or seating, stowing carry-on baggage, weight and balance delays.  \n",
    "**WeatherDelay** in minutes: Weather delay is caused by extreme or hazardous weather conditions that are forecasted or manifest themselves on point of departure, enroute, or on point of arrival.  \n",
    "**NASDelay** in minutes: Delay that is within the control of the National Airspace System (NAS) may include: non-extreme weather conditions, airport operations, heavy traffic volume, air traffic control, etc.  \n",
    "**SecurityDelay** in minutes: Security delay is caused by evacuation of a terminal or concourse, re-boarding of aircraft because of security breach, inoperative screening equipment and/or long lines in excess of 29 minutes at screening areas.  \n",
    "**LateAircraftDelay** in minutes: Arrival delay at an airport due to the late arrival of the same aircraft at a previous airport. The ripple effect of an earlier delay at downstream airports is referred to as delay propagation."
   ]
  },
  {
   "cell_type": "code",
   "execution_count": 95,
   "metadata": {},
   "outputs": [],
   "source": [
    "import pandas as pd\n",
    "%matplotlib inline"
   ]
  },
  {
   "cell_type": "markdown",
   "metadata": {},
   "source": [
    "**6. (0.3 балла)** Какая из причин отмены рейса (`CancellationCode`) была самой частой? (расшифровки кодов можно найти в описании данных)"
   ]
  },
  {
   "cell_type": "code",
   "execution_count": 96,
   "metadata": {},
   "outputs": [
    {
     "data": {
      "text/html": [
       "<div>\n",
       "<style scoped>\n",
       "    .dataframe tbody tr th:only-of-type {\n",
       "        vertical-align: middle;\n",
       "    }\n",
       "\n",
       "    .dataframe tbody tr th {\n",
       "        vertical-align: top;\n",
       "    }\n",
       "\n",
       "    .dataframe thead th {\n",
       "        text-align: right;\n",
       "    }\n",
       "</style>\n",
       "<table border=\"1\" class=\"dataframe\">\n",
       "  <thead>\n",
       "    <tr style=\"text-align: right;\">\n",
       "      <th></th>\n",
       "      <th>Year</th>\n",
       "      <th>Month</th>\n",
       "      <th>DayofMonth</th>\n",
       "      <th>DayOfWeek</th>\n",
       "      <th>DepTime</th>\n",
       "      <th>CRSDepTime</th>\n",
       "      <th>ArrTime</th>\n",
       "      <th>CRSArrTime</th>\n",
       "      <th>UniqueCarrier</th>\n",
       "      <th>FlightNum</th>\n",
       "      <th>...</th>\n",
       "      <th>TaxiIn</th>\n",
       "      <th>TaxiOut</th>\n",
       "      <th>Cancelled</th>\n",
       "      <th>CancellationCode</th>\n",
       "      <th>Diverted</th>\n",
       "      <th>CarrierDelay</th>\n",
       "      <th>WeatherDelay</th>\n",
       "      <th>NASDelay</th>\n",
       "      <th>SecurityDelay</th>\n",
       "      <th>LateAircraftDelay</th>\n",
       "    </tr>\n",
       "  </thead>\n",
       "  <tbody>\n",
       "    <tr>\n",
       "      <th>0</th>\n",
       "      <td>2008</td>\n",
       "      <td>6</td>\n",
       "      <td>18</td>\n",
       "      <td>3</td>\n",
       "      <td>2111.0</td>\n",
       "      <td>2055</td>\n",
       "      <td>2308.0</td>\n",
       "      <td>2300</td>\n",
       "      <td>WN</td>\n",
       "      <td>242</td>\n",
       "      <td>...</td>\n",
       "      <td>3.0</td>\n",
       "      <td>8.0</td>\n",
       "      <td>0</td>\n",
       "      <td>NaN</td>\n",
       "      <td>0</td>\n",
       "      <td>NaN</td>\n",
       "      <td>NaN</td>\n",
       "      <td>NaN</td>\n",
       "      <td>NaN</td>\n",
       "      <td>NaN</td>\n",
       "    </tr>\n",
       "    <tr>\n",
       "      <th>1</th>\n",
       "      <td>2008</td>\n",
       "      <td>6</td>\n",
       "      <td>4</td>\n",
       "      <td>3</td>\n",
       "      <td>1426.0</td>\n",
       "      <td>1410</td>\n",
       "      <td>1730.0</td>\n",
       "      <td>1728</td>\n",
       "      <td>XE</td>\n",
       "      <td>2380</td>\n",
       "      <td>...</td>\n",
       "      <td>4.0</td>\n",
       "      <td>12.0</td>\n",
       "      <td>0</td>\n",
       "      <td>NaN</td>\n",
       "      <td>0</td>\n",
       "      <td>NaN</td>\n",
       "      <td>NaN</td>\n",
       "      <td>NaN</td>\n",
       "      <td>NaN</td>\n",
       "      <td>NaN</td>\n",
       "    </tr>\n",
       "    <tr>\n",
       "      <th>2</th>\n",
       "      <td>2008</td>\n",
       "      <td>8</td>\n",
       "      <td>3</td>\n",
       "      <td>7</td>\n",
       "      <td>1143.0</td>\n",
       "      <td>1145</td>\n",
       "      <td>1501.0</td>\n",
       "      <td>1520</td>\n",
       "      <td>WN</td>\n",
       "      <td>1769</td>\n",
       "      <td>...</td>\n",
       "      <td>4.0</td>\n",
       "      <td>9.0</td>\n",
       "      <td>0</td>\n",
       "      <td>NaN</td>\n",
       "      <td>0</td>\n",
       "      <td>NaN</td>\n",
       "      <td>NaN</td>\n",
       "      <td>NaN</td>\n",
       "      <td>NaN</td>\n",
       "      <td>NaN</td>\n",
       "    </tr>\n",
       "    <tr>\n",
       "      <th>3</th>\n",
       "      <td>2008</td>\n",
       "      <td>1</td>\n",
       "      <td>23</td>\n",
       "      <td>3</td>\n",
       "      <td>1141.0</td>\n",
       "      <td>1144</td>\n",
       "      <td>1323.0</td>\n",
       "      <td>1335</td>\n",
       "      <td>OO</td>\n",
       "      <td>3802</td>\n",
       "      <td>...</td>\n",
       "      <td>4.0</td>\n",
       "      <td>19.0</td>\n",
       "      <td>0</td>\n",
       "      <td>NaN</td>\n",
       "      <td>0</td>\n",
       "      <td>NaN</td>\n",
       "      <td>NaN</td>\n",
       "      <td>NaN</td>\n",
       "      <td>NaN</td>\n",
       "      <td>NaN</td>\n",
       "    </tr>\n",
       "    <tr>\n",
       "      <th>4</th>\n",
       "      <td>2008</td>\n",
       "      <td>5</td>\n",
       "      <td>4</td>\n",
       "      <td>7</td>\n",
       "      <td>815.0</td>\n",
       "      <td>820</td>\n",
       "      <td>1243.0</td>\n",
       "      <td>1300</td>\n",
       "      <td>WN</td>\n",
       "      <td>399</td>\n",
       "      <td>...</td>\n",
       "      <td>4.0</td>\n",
       "      <td>8.0</td>\n",
       "      <td>0</td>\n",
       "      <td>NaN</td>\n",
       "      <td>0</td>\n",
       "      <td>NaN</td>\n",
       "      <td>NaN</td>\n",
       "      <td>NaN</td>\n",
       "      <td>NaN</td>\n",
       "      <td>NaN</td>\n",
       "    </tr>\n",
       "    <tr>\n",
       "      <th>...</th>\n",
       "      <td>...</td>\n",
       "      <td>...</td>\n",
       "      <td>...</td>\n",
       "      <td>...</td>\n",
       "      <td>...</td>\n",
       "      <td>...</td>\n",
       "      <td>...</td>\n",
       "      <td>...</td>\n",
       "      <td>...</td>\n",
       "      <td>...</td>\n",
       "      <td>...</td>\n",
       "      <td>...</td>\n",
       "      <td>...</td>\n",
       "      <td>...</td>\n",
       "      <td>...</td>\n",
       "      <td>...</td>\n",
       "      <td>...</td>\n",
       "      <td>...</td>\n",
       "      <td>...</td>\n",
       "      <td>...</td>\n",
       "      <td>...</td>\n",
       "    </tr>\n",
       "    <tr>\n",
       "      <th>69995</th>\n",
       "      <td>2008</td>\n",
       "      <td>5</td>\n",
       "      <td>12</td>\n",
       "      <td>1</td>\n",
       "      <td>1829.0</td>\n",
       "      <td>1840</td>\n",
       "      <td>2137.0</td>\n",
       "      <td>2149</td>\n",
       "      <td>DL</td>\n",
       "      <td>794</td>\n",
       "      <td>...</td>\n",
       "      <td>22.0</td>\n",
       "      <td>20.0</td>\n",
       "      <td>0</td>\n",
       "      <td>NaN</td>\n",
       "      <td>0</td>\n",
       "      <td>NaN</td>\n",
       "      <td>NaN</td>\n",
       "      <td>NaN</td>\n",
       "      <td>NaN</td>\n",
       "      <td>NaN</td>\n",
       "    </tr>\n",
       "    <tr>\n",
       "      <th>69996</th>\n",
       "      <td>2008</td>\n",
       "      <td>5</td>\n",
       "      <td>11</td>\n",
       "      <td>7</td>\n",
       "      <td>1149.0</td>\n",
       "      <td>1125</td>\n",
       "      <td>1336.0</td>\n",
       "      <td>1314</td>\n",
       "      <td>OO</td>\n",
       "      <td>6159</td>\n",
       "      <td>...</td>\n",
       "      <td>4.0</td>\n",
       "      <td>13.0</td>\n",
       "      <td>0</td>\n",
       "      <td>NaN</td>\n",
       "      <td>0</td>\n",
       "      <td>0.0</td>\n",
       "      <td>0.0</td>\n",
       "      <td>0.0</td>\n",
       "      <td>0.0</td>\n",
       "      <td>22.0</td>\n",
       "    </tr>\n",
       "    <tr>\n",
       "      <th>69997</th>\n",
       "      <td>2008</td>\n",
       "      <td>9</td>\n",
       "      <td>24</td>\n",
       "      <td>3</td>\n",
       "      <td>1012.0</td>\n",
       "      <td>1012</td>\n",
       "      <td>1132.0</td>\n",
       "      <td>1132</td>\n",
       "      <td>YV</td>\n",
       "      <td>7058</td>\n",
       "      <td>...</td>\n",
       "      <td>7.0</td>\n",
       "      <td>10.0</td>\n",
       "      <td>0</td>\n",
       "      <td>NaN</td>\n",
       "      <td>0</td>\n",
       "      <td>NaN</td>\n",
       "      <td>NaN</td>\n",
       "      <td>NaN</td>\n",
       "      <td>NaN</td>\n",
       "      <td>NaN</td>\n",
       "    </tr>\n",
       "    <tr>\n",
       "      <th>69998</th>\n",
       "      <td>2008</td>\n",
       "      <td>2</td>\n",
       "      <td>18</td>\n",
       "      <td>1</td>\n",
       "      <td>1906.0</td>\n",
       "      <td>1900</td>\n",
       "      <td>2200.0</td>\n",
       "      <td>2139</td>\n",
       "      <td>NW</td>\n",
       "      <td>641</td>\n",
       "      <td>...</td>\n",
       "      <td>20.0</td>\n",
       "      <td>22.0</td>\n",
       "      <td>0</td>\n",
       "      <td>NaN</td>\n",
       "      <td>0</td>\n",
       "      <td>0.0</td>\n",
       "      <td>0.0</td>\n",
       "      <td>15.0</td>\n",
       "      <td>0.0</td>\n",
       "      <td>6.0</td>\n",
       "    </tr>\n",
       "    <tr>\n",
       "      <th>69999</th>\n",
       "      <td>2008</td>\n",
       "      <td>12</td>\n",
       "      <td>6</td>\n",
       "      <td>6</td>\n",
       "      <td>859.0</td>\n",
       "      <td>900</td>\n",
       "      <td>959.0</td>\n",
       "      <td>1005</td>\n",
       "      <td>WN</td>\n",
       "      <td>510</td>\n",
       "      <td>...</td>\n",
       "      <td>2.0</td>\n",
       "      <td>12.0</td>\n",
       "      <td>0</td>\n",
       "      <td>NaN</td>\n",
       "      <td>0</td>\n",
       "      <td>NaN</td>\n",
       "      <td>NaN</td>\n",
       "      <td>NaN</td>\n",
       "      <td>NaN</td>\n",
       "      <td>NaN</td>\n",
       "    </tr>\n",
       "  </tbody>\n",
       "</table>\n",
       "<p>70000 rows × 29 columns</p>\n",
       "</div>"
      ],
      "text/plain": [
       "       Year  Month  DayofMonth  DayOfWeek  DepTime  CRSDepTime  ArrTime  \\\n",
       "0      2008      6          18          3   2111.0        2055   2308.0   \n",
       "1      2008      6           4          3   1426.0        1410   1730.0   \n",
       "2      2008      8           3          7   1143.0        1145   1501.0   \n",
       "3      2008      1          23          3   1141.0        1144   1323.0   \n",
       "4      2008      5           4          7    815.0         820   1243.0   \n",
       "...     ...    ...         ...        ...      ...         ...      ...   \n",
       "69995  2008      5          12          1   1829.0        1840   2137.0   \n",
       "69996  2008      5          11          7   1149.0        1125   1336.0   \n",
       "69997  2008      9          24          3   1012.0        1012   1132.0   \n",
       "69998  2008      2          18          1   1906.0        1900   2200.0   \n",
       "69999  2008     12           6          6    859.0         900    959.0   \n",
       "\n",
       "       CRSArrTime UniqueCarrier  FlightNum  ... TaxiIn  TaxiOut  Cancelled  \\\n",
       "0            2300            WN        242  ...    3.0      8.0          0   \n",
       "1            1728            XE       2380  ...    4.0     12.0          0   \n",
       "2            1520            WN       1769  ...    4.0      9.0          0   \n",
       "3            1335            OO       3802  ...    4.0     19.0          0   \n",
       "4            1300            WN        399  ...    4.0      8.0          0   \n",
       "...           ...           ...        ...  ...    ...      ...        ...   \n",
       "69995        2149            DL        794  ...   22.0     20.0          0   \n",
       "69996        1314            OO       6159  ...    4.0     13.0          0   \n",
       "69997        1132            YV       7058  ...    7.0     10.0          0   \n",
       "69998        2139            NW        641  ...   20.0     22.0          0   \n",
       "69999        1005            WN        510  ...    2.0     12.0          0   \n",
       "\n",
       "       CancellationCode  Diverted  CarrierDelay WeatherDelay NASDelay  \\\n",
       "0                   NaN         0           NaN          NaN      NaN   \n",
       "1                   NaN         0           NaN          NaN      NaN   \n",
       "2                   NaN         0           NaN          NaN      NaN   \n",
       "3                   NaN         0           NaN          NaN      NaN   \n",
       "4                   NaN         0           NaN          NaN      NaN   \n",
       "...                 ...       ...           ...          ...      ...   \n",
       "69995               NaN         0           NaN          NaN      NaN   \n",
       "69996               NaN         0           0.0          0.0      0.0   \n",
       "69997               NaN         0           NaN          NaN      NaN   \n",
       "69998               NaN         0           0.0          0.0     15.0   \n",
       "69999               NaN         0           NaN          NaN      NaN   \n",
       "\n",
       "       SecurityDelay  LateAircraftDelay  \n",
       "0                NaN                NaN  \n",
       "1                NaN                NaN  \n",
       "2                NaN                NaN  \n",
       "3                NaN                NaN  \n",
       "4                NaN                NaN  \n",
       "...              ...                ...  \n",
       "69995            NaN                NaN  \n",
       "69996            0.0               22.0  \n",
       "69997            NaN                NaN  \n",
       "69998            0.0                6.0  \n",
       "69999            NaN                NaN  \n",
       "\n",
       "[70000 rows x 29 columns]"
      ]
     },
     "execution_count": 96,
     "metadata": {},
     "output_type": "execute_result"
    }
   ],
   "source": [
    "df = pd.read_csv('2008.csv')\n",
    "df"
   ]
  },
  {
   "cell_type": "code",
   "execution_count": 97,
   "metadata": {},
   "outputs": [
    {
     "name": "stdout",
     "output_type": "stream",
     "text": [
      "CancellationCode\n",
      "A    563\n",
      "B    549\n",
      "C    299\n",
      "Name: count, dtype: int64\n",
      "Самая частая причина: A\n"
     ]
    }
   ],
   "source": [
    "cancellation_counts = df['CancellationCode'].value_counts()\n",
    "print(cancellation_counts)\n",
    "most_common = cancellation_counts.index[0]\n",
    "print(f\"Самая частая причина: {most_common}\")"
   ]
  },
  {
   "cell_type": "markdown",
   "metadata": {},
   "source": [
    "A (563) - отмены по вине авиакомпании (Carrier)\n",
    "\n",
    "B (549) - отмены из-за погоды (Weather)\n",
    "\n",
    "C (299) - отмены из-за проблем национальной авиасистемы (National Air System)"
   ]
  },
  {
   "cell_type": "markdown",
   "metadata": {},
   "source": [
    "**7. (0.3 балла)** Найдите среднее, минимальное и максимальное расстояние, пройденное самолетом."
   ]
  },
  {
   "cell_type": "code",
   "execution_count": 98,
   "metadata": {
    "collapsed": true
   },
   "outputs": [
    {
     "name": "stdout",
     "output_type": "stream",
     "text": [
      "Среднее расстояние: 724.51\n",
      "Минимальное расстояние: 31\n",
      "Максимальное расстояние: 4962\n"
     ]
    }
   ],
   "source": [
    "print(f\"Среднее расстояние: {df['Distance'].mean():.2f}\")\n",
    "print(f\"Минимальное расстояние: {df['Distance'].min()}\")\n",
    "print(f\"Максимальное расстояние: {df['Distance'].max()}\")"
   ]
  },
  {
   "cell_type": "markdown",
   "metadata": {},
   "source": [
    "**8. (0.3 балла)** Не выглядит ли подозрительным минимальное пройденное расстояние? В какие дни и на каких рейсах оно было? Какое расстояние было пройдено этими же рейсами в другие дни?"
   ]
  },
  {
   "cell_type": "code",
   "execution_count": 99,
   "metadata": {
    "collapsed": true
   },
   "outputs": [
    {
     "data": {
      "text/html": [
       "<div>\n",
       "<style scoped>\n",
       "    .dataframe tbody tr th:only-of-type {\n",
       "        vertical-align: middle;\n",
       "    }\n",
       "\n",
       "    .dataframe tbody tr th {\n",
       "        vertical-align: top;\n",
       "    }\n",
       "\n",
       "    .dataframe thead th {\n",
       "        text-align: right;\n",
       "    }\n",
       "</style>\n",
       "<table border=\"1\" class=\"dataframe\">\n",
       "  <thead>\n",
       "    <tr style=\"text-align: right;\">\n",
       "      <th></th>\n",
       "      <th>Year</th>\n",
       "      <th>Month</th>\n",
       "      <th>DayofMonth</th>\n",
       "      <th>UniqueCarrier</th>\n",
       "      <th>FlightNum</th>\n",
       "      <th>Origin</th>\n",
       "      <th>Dest</th>\n",
       "      <th>Distance</th>\n",
       "    </tr>\n",
       "  </thead>\n",
       "  <tbody>\n",
       "    <tr>\n",
       "      <th>1116</th>\n",
       "      <td>2008</td>\n",
       "      <td>12</td>\n",
       "      <td>30</td>\n",
       "      <td>AS</td>\n",
       "      <td>65</td>\n",
       "      <td>WRG</td>\n",
       "      <td>PSG</td>\n",
       "      <td>31</td>\n",
       "    </tr>\n",
       "    <tr>\n",
       "      <th>6958</th>\n",
       "      <td>2008</td>\n",
       "      <td>12</td>\n",
       "      <td>26</td>\n",
       "      <td>AS</td>\n",
       "      <td>65</td>\n",
       "      <td>WRG</td>\n",
       "      <td>PSG</td>\n",
       "      <td>31</td>\n",
       "    </tr>\n",
       "    <tr>\n",
       "      <th>17349</th>\n",
       "      <td>2008</td>\n",
       "      <td>8</td>\n",
       "      <td>18</td>\n",
       "      <td>AS</td>\n",
       "      <td>64</td>\n",
       "      <td>PSG</td>\n",
       "      <td>WRG</td>\n",
       "      <td>31</td>\n",
       "    </tr>\n",
       "    <tr>\n",
       "      <th>27534</th>\n",
       "      <td>2008</td>\n",
       "      <td>3</td>\n",
       "      <td>11</td>\n",
       "      <td>AS</td>\n",
       "      <td>64</td>\n",
       "      <td>PSG</td>\n",
       "      <td>WRG</td>\n",
       "      <td>31</td>\n",
       "    </tr>\n",
       "    <tr>\n",
       "      <th>46082</th>\n",
       "      <td>2008</td>\n",
       "      <td>8</td>\n",
       "      <td>9</td>\n",
       "      <td>AS</td>\n",
       "      <td>65</td>\n",
       "      <td>WRG</td>\n",
       "      <td>PSG</td>\n",
       "      <td>31</td>\n",
       "    </tr>\n",
       "    <tr>\n",
       "      <th>48112</th>\n",
       "      <td>2008</td>\n",
       "      <td>2</td>\n",
       "      <td>28</td>\n",
       "      <td>AS</td>\n",
       "      <td>64</td>\n",
       "      <td>PSG</td>\n",
       "      <td>WRG</td>\n",
       "      <td>31</td>\n",
       "    </tr>\n",
       "  </tbody>\n",
       "</table>\n",
       "</div>"
      ],
      "text/plain": [
       "       Year  Month  DayofMonth UniqueCarrier  FlightNum Origin Dest  Distance\n",
       "1116   2008     12          30            AS         65    WRG  PSG        31\n",
       "6958   2008     12          26            AS         65    WRG  PSG        31\n",
       "17349  2008      8          18            AS         64    PSG  WRG        31\n",
       "27534  2008      3          11            AS         64    PSG  WRG        31\n",
       "46082  2008      8           9            AS         65    WRG  PSG        31\n",
       "48112  2008      2          28            AS         64    PSG  WRG        31"
      ]
     },
     "execution_count": 99,
     "metadata": {},
     "output_type": "execute_result"
    }
   ],
   "source": [
    "min_distance = df['Distance'].min()\n",
    "flights = df[df['Distance'] == min_distance]\n",
    "flights[['Year', 'Month', 'DayofMonth', 'UniqueCarrier', 'FlightNum', 'Origin', 'Dest', 'Distance']]"
   ]
  },
  {
   "cell_type": "markdown",
   "metadata": {},
   "source": [
    "**9. (0.3 балла)** Из какого аэропорта было произведено больше всего вылетов? В каком городе он находится?"
   ]
  },
  {
   "cell_type": "code",
   "execution_count": 100,
   "metadata": {
    "collapsed": true
   },
   "outputs": [
    {
     "name": "stdout",
     "output_type": "stream",
     "text": [
      "Аэропорт: ATL\n",
      "Количество вылетов: 4134\n"
     ]
    }
   ],
   "source": [
    "departure_counts = df['Origin'].value_counts()\n",
    "busiest_airport = departure_counts.index[0]\n",
    "departure_count = departure_counts.iloc[0]\n",
    "print(f\"Аэропорт: {busiest_airport}\")\n",
    "print(f\"Количество вылетов: {departure_count}\")"
   ]
  },
  {
   "cell_type": "markdown",
   "metadata": {},
   "source": [
    "ATL - это Международный аэропорт Хартсфилд-Джексон Атланта (Hartsfield–Jackson Atlanta International Airport)\n",
    "Местоположение: Атланта, штат Джорджия, США."
   ]
  },
  {
   "cell_type": "markdown",
   "metadata": {},
   "source": [
    "**10. (0.3 балла)** Найдите для каждого аэропорта среднее время полета (`AirTime`) по всем вылетевшим из него рейсам. Какой аэропорт имеет наибольшее значение этого показателя?"
   ]
  },
  {
   "cell_type": "code",
   "execution_count": 101,
   "metadata": {
    "collapsed": true
   },
   "outputs": [
    {
     "data": {
      "text/plain": [
       "Origin\n",
       "SJU    205.200000\n",
       "BQN    193.954545\n",
       "PSE    191.875000\n",
       "STT    185.029412\n",
       "ANC    165.415094\n",
       "          ...    \n",
       "PSG     20.250000\n",
       "OXR     19.666667\n",
       "WRG     18.000000\n",
       "GST     13.000000\n",
       "DLG           NaN\n",
       "Name: AirTime, Length: 297, dtype: float64"
      ]
     },
     "execution_count": 101,
     "metadata": {},
     "output_type": "execute_result"
    }
   ],
   "source": [
    "avg_airtime = df.groupby('Origin')['AirTime'].mean().sort_values(ascending=False)\n",
    "avg_airtime"
   ]
  },
  {
   "cell_type": "markdown",
   "metadata": {},
   "source": [
    "Аэропорт SJU имеет наибольшее значение: 205.200 минут"
   ]
  },
  {
   "cell_type": "markdown",
   "metadata": {},
   "source": [
    "**11. (0.5 балла)** Найдите аэропорт, у которого наибольшая доля задержанных (`DepDelay > 0`) рейсов. Исключите при этом из рассмотрения аэропорты, из которых было отправлено меньше 1000 рейсов (используйте функцию `filter` после `groupby`)."
   ]
  },
  {
   "cell_type": "code",
   "execution_count": 102,
   "metadata": {},
   "outputs": [
    {
     "name": "stdout",
     "output_type": "stream",
     "text": [
      "Аэропорт: EWR\n",
      "Доля задержанных рейсов: 0.529\n"
     ]
    }
   ],
   "source": [
    "airport_stats = df.groupby('Origin').agg({\n",
    "    'DepDelay': ['count', lambda x: (x > 0).sum()]\n",
    "}).reset_index()\n",
    "\n",
    "airport_stats.columns = ['Origin', 'total_flights', 'delayed_flights']\n",
    "airport_stats['delay_ratio'] = airport_stats['delayed_flights'] / airport_stats['total_flights']\n",
    "\n",
    "filtered_airports = airport_stats[airport_stats['total_flights'] >= 1000]\n",
    "max_delay_airport = filtered_airports.loc[filtered_airports['delay_ratio'].idxmax()]\n",
    "print(f\"Аэропорт: {max_delay_airport['Origin']}\")\n",
    "print(f\"Доля задержанных рейсов: {max_delay_airport['delay_ratio']:.3f}\")"
   ]
  },
  {
   "cell_type": "markdown",
   "metadata": {},
   "source": [
    "## Линейная регрессия\n",
    "\n",
    "В этой части мы разберемся с линейной регрессией, способами её обучения и измерением качества ее прогнозов. \n",
    "\n",
    "Будем рассматривать датасет из предыдущей части задания для предсказания времени задержки отправления рейса в минутах (DepDelay). Отметим, что под задержкой подразумевается не только опоздание рейса относительно планируемого времени вылета, но и отправление до планируемого времени.\n",
    "\n",
    "### Подготовка данных\n",
    "\n",
    "**12. (0.5 балла)** Считайте выборку из файла при помощи функции pd.read_csv и ответьте на следующие вопросы:\n",
    "   - Имеются ли в данных пропущенные значения?\n",
    "   - Сколько всего пропущенных элементов в таблице \"объект-признак\"?\n",
    "   - Сколько объектов имеют хотя бы один пропуск?\n",
    "   - Сколько признаков имеют хотя бы одно пропущенное значение?"
   ]
  },
  {
   "cell_type": "code",
   "execution_count": 103,
   "metadata": {
    "scrolled": true
   },
   "outputs": [
    {
     "name": "stdout",
     "output_type": "stream",
     "text": [
      "1. Имеются ли в данных пропущенные значения? Да\n",
      "2. Всего пропущенных элементов в таблице: 355215\n",
      "3. Объектов с хотя бы одним пропуском: 70000\n",
      "4. Признаков с хотя бы одним пропуском: 16\n"
     ]
    }
   ],
   "source": [
    "has_missing_values = df.isnull().any().any()\n",
    "print(f\"1. Имеются ли в данных пропущенные значения? {'Да' if has_missing_values else 'Нет'}\")\n",
    "\n",
    "# Сколько всего пропущенных элементов в таблице \"объект-признак\"?\n",
    "total_missing = df.isnull().sum().sum()\n",
    "print(f\"2. Всего пропущенных элементов в таблице: {total_missing}\")\n",
    "\n",
    "# Сколько объектов имеют хотя бы один пропуск?\n",
    "objects_with_missing = df.isnull().any(axis=1).sum()\n",
    "print(f\"3. Объектов с хотя бы одним пропуском: {objects_with_missing}\")\n",
    "\n",
    "# Сколько признаков имеют хотя бы одно пропущенное значение?\n",
    "features_with_missing = df.isnull().any(axis=0).sum()\n",
    "print(f\"4. Признаков с хотя бы одним пропуском: {features_with_missing}\")"
   ]
  },
  {
   "cell_type": "markdown",
   "metadata": {},
   "source": [
    "Как вы понимаете, также не имеет смысла рассматривать при решении поставленной задачи объекты с пропущенным значением целевой переменной. В связи с этим ответьте на следующие вопросы и выполните соответствующие действия:\n",
    "- Имеются ли пропущенные значения в целевой переменной?\n",
    "- Проанализируйте объекты с пропущенными значениями целевой переменной. Чем вызвано это явление? Что их объединяет? Можно ли в связи с этим, на ваш взгляд, исключить какие-то признаки из рассмотрения? Обоснуйте свою точку зрения.\n",
    "\n",
    "Исключите из выборки объекты **с пропущенным значением целевой переменной и со значением целевой переменной, равным 0**, а также при необходимости исключите признаки в соответствии с вашим ответом на последний вопрос из списка и выделите целевую переменную в отдельный вектор, исключив её из матрицы \"объект-признак\"."
   ]
  },
  {
   "cell_type": "code",
   "execution_count": 104,
   "metadata": {
    "collapsed": true
   },
   "outputs": [
    {
     "name": "stdout",
     "output_type": "stream",
     "text": [
      "Пропуски в DepDelay: 1399\n",
      "\n",
      "Объекты с пропущенной DepDelay:\n",
      "Количество: 1399\n",
      "Отмененные рейсы среди них: 1399\n",
      "Перенаправленные рейсы среди них: 0\n",
      "\n",
      "После очистки:\n",
      "Исходный размер: 70000\n",
      "Очищенный размер: 63404\n",
      "Признаков после очистки: 26\n"
     ]
    }
   ],
   "source": [
    "print(f\"Пропуски в DepDelay: {df['DepDelay'].isnull().sum()}\")\n",
    "\n",
    "missing_target = df[df['DepDelay'].isnull()]\n",
    "print(f\"\\nОбъекты с пропущенной DepDelay:\")\n",
    "print(f\"Количество: {len(missing_target)}\")\n",
    "print(f\"Отмененные рейсы среди них: {missing_target['Cancelled'].sum()}\")\n",
    "print(f\"Перенаправленные рейсы среди них: {missing_target['Diverted'].sum()}\")\n",
    "\n",
    "# Исключение объектов с пропущенной и нулевой целевой переменной\n",
    "df_clean = df[df['DepDelay'].notna() & (df['DepDelay'] != 0)].copy()\n",
    "print(f\"\\nПосле очистки:\")\n",
    "print(f\"Исходный размер: {len(df)}\")\n",
    "print(f\"Очищенный размер: {len(df_clean)}\")\n",
    "\n",
    "# Исключение признаков, связанные с отмененными рейсами\n",
    "cols_to_drop = ['Cancelled', 'CancellationCode']\n",
    "df_clean = df_clean.drop(columns=[col for col in cols_to_drop if col in df_clean.columns])\n",
    "\n",
    "# Целевая переменная\n",
    "X = df_clean.drop(columns=['DepDelay'])\n",
    "y = df_clean['DepDelay']\n",
    "\n",
    "print(f\"Признаков после очистки: {X.shape[1]}\")"
   ]
  },
  {
   "cell_type": "markdown",
   "metadata": {},
   "source": [
    "Пропуски в целевой переменной DepDelay вызваны в основном отмененными и перенаправленными  рейсами. Для таких рейсов данные о задержках не собираются.\n",
    "\n",
    "Все рейсы с пропущенной DepDelay объединяет то, что они не были выполнены по расписанию - либо отменены, либо перенаправлены в другие аэропорты.\n",
    "\n",
    "\n",
    "Можно исключить признаки Cancelled и CancellationCode - эти признаки непосредственно указывают на отмену рейсов и создают утечку данных, так как уже известно, что рейс не состоялся.\n",
    "\n",
    "Причины задержек (CarrierDelay, WeatherDelay, NASDelay, SecurityDelay, LateAircraftDelay) - доступны только после события и не могут использоваться для прогнозирования\n",
    "\n",
    "Эти признаки дают информацию только после того, как будет известно значение целевой переменной. Прогноз будет неактуальным."
   ]
  },
  {
   "cell_type": "markdown",
   "metadata": {},
   "source": [
    "**13. (0.5 балла)** Обратите внимание, что признаки DepTime, CRSDepTime, ArrTime, CRSArrTime приведены в формате hhmm, в связи с чем будет не вполне корректно рассматривать их как вещественные.\n",
    "\n",
    "Преобразуйте каждый признак FeatureName из указанных в пару новых признаков FeatureName\\_Hour, FeatureName\\_Minute, разделив каждое из значений на часы и минуты. Не забудьте при этом исключить исходный признак из выборки. В случае, если значение признака отсутствует, значения двух новых признаков, его заменяющих, также должны отсутствовать. \n",
    "\n",
    "Например, признак DepTime необходимо заменить на пару признаков DepTime_Hour, DepTime_Minute. При этом, например, значение 155 исходного признака будет преобразовано в значения 1 и 55 признаков DepTime_Hour, DepTime_Minute соответственно."
   ]
  },
  {
   "cell_type": "code",
   "execution_count": 105,
   "metadata": {
    "collapsed": true
   },
   "outputs": [
    {
     "name": "stdout",
     "output_type": "stream",
     "text": [
      "13. Преобразованные временные признаки:\n",
      "Новые признаки: ['DepTime_Hour', 'DepTime_Minute', 'CRSDepTime_Hour', 'CRSDepTime_Minute', 'ArrTime_Hour', 'ArrTime_Minute', 'CRSArrTime_Hour', 'CRSArrTime_Minute']\n",
      "Всего признаков после преобразования: 30\n"
     ]
    }
   ],
   "source": [
    "def convert_time_columns(df, time_columns):\n",
    "    df_converted = df.copy()\n",
    "    \n",
    "    for col in time_columns:\n",
    "        if col in df_converted.columns:\n",
    "            # Преобразование в строку и заполнение нулями слева до 4 цифр\n",
    "            time_str = df_converted[col].fillna(-1).astype(int).astype(str).str.zfill(4)\n",
    "            \n",
    "            # Извлечение часов и минут\n",
    "            df_converted[f'{col}_Hour'] = np.where(\n",
    "                df_converted[col].notna(),\n",
    "                time_str.str[:2].replace('00', '0').astype(float),\n",
    "                np.nan\n",
    "            )\n",
    "            df_converted[f'{col}_Minute'] = np.where(\n",
    "                df_converted[col].notna(), \n",
    "                time_str.str[2:].astype(float),\n",
    "                np.nan\n",
    "            )\n",
    "            \n",
    "            # Удаление исходного признака\n",
    "            df_converted = df_converted.drop(columns=[col])\n",
    "    \n",
    "    return df_converted\n",
    "\n",
    "# преобразование\n",
    "time_columns = ['DepTime', 'CRSDepTime', 'ArrTime', 'CRSArrTime']\n",
    "X = convert_time_columns(X, time_columns)\n",
    "\n",
    "print(\"13. Преобразованные временные признаки:\")\n",
    "print(f\"Новые признаки: {[col for col in X.columns if 'Hour' in col or 'Minute' in col]}\")\n",
    "print(f\"Всего признаков после преобразования: {X.shape[1]}\")"
   ]
  },
  {
   "cell_type": "markdown",
   "metadata": {},
   "source": [
    "**14. (0.5 балла)** Некоторые из признаков, отличных от целевой переменной, могут оказывать чересчур значимое влияние на прогноз, поскольку по своему смыслу содержат большую долю информации о значении целевой переменной. Изучите описание датасета и исключите признаки, сильно коррелирующие с ответами. Ваш выбор признаков для исключения из выборки обоснуйте. Кроме того, исключите признаки TailNum и Year."
   ]
  },
  {
   "cell_type": "code",
   "execution_count": 106,
   "metadata": {
    "collapsed": true
   },
   "outputs": [
    {
     "name": "stdout",
     "output_type": "stream",
     "text": [
      "Исключено признаков: 10\n",
      "Осталось признаков: 20\n",
      "Исключенные признаки: ['TailNum', 'Year', 'ArrDelay', 'ActualElapsedTime', 'CRSElapsedTime', 'CarrierDelay', 'WeatherDelay', 'NASDelay', 'SecurityDelay', 'LateAircraftDelay']\n"
     ]
    }
   ],
   "source": [
    "cols_to_exclude = [\n",
    "    'TailNum', 'Year',  # По условию\n",
    "    'ArrDelay',  # Сильно коррелирует с целевой переменной\n",
    "    'ActualElapsedTime', 'CRSElapsedTime',  # Содержат информацию о времени полета\n",
    "    'CarrierDelay', 'WeatherDelay', 'NASDelay', 'SecurityDelay', 'LateAircraftDelay'  # Причины задержек\n",
    "]\n",
    "\n",
    "existing_cols_to_exclude = [col for col in cols_to_exclude if col in X.columns]\n",
    "X = X.drop(columns=existing_cols_to_exclude)\n",
    "\n",
    "print(f\"Исключено признаков: {len(existing_cols_to_exclude)}\")\n",
    "print(f\"Осталось признаков: {X.shape[1]}\")\n",
    "print(f\"Исключенные признаки: {existing_cols_to_exclude}\")"
   ]
  },
  {
   "cell_type": "markdown",
   "metadata": {},
   "source": [
    "Признаки для исключения:\n",
    "1. По условию:\n",
    "TailNum - уникальный идентификатор самолета, не несет predictive power\n",
    "Year - все данные за 2008 год, константа\n",
    "\n",
    "2. Прямая утечка информации (Target Leakage):\n",
    "ArrDelay - задержка прибытия напрямую связана с задержкой вылета, содержит информацию о целевой переменной\n",
    "ActualElapsedTime, CRSElapsedTime - фактическое и плановое время полета косвенно содержат информацию о задержках\n",
    "\n",
    "3. Причины задержек:\n",
    "CarrierDelay, WeatherDelay, NASDelay, SecurityDelay, LateAircraftDelay - эти признаки становятся известны только после анализа задержки\n",
    "\n",
    "4. Признаки, связанные с отмененными рейсами:\n",
    "Cancelled, CancellationCode - уже исключены в задании 12"
   ]
  },
  {
   "cell_type": "markdown",
   "metadata": {},
   "source": [
    "**15. (1 балл)** Приведем данные к виду, пригодному для обучения линейных моделей. Для этого вещественные признаки надо отмасштабировать, а категориальные — привести к числовому виду. Также надо устранить пропуски в данных."
   ]
  },
  {
   "cell_type": "markdown",
   "metadata": {},
   "source": [
    "В первую очередь поймем, зачем необходимо применять масштабирование. Следующие ячейки с кодом построят гистограммы для 3 вещественных признаков выборки."
   ]
  },
  {
   "cell_type": "code",
   "execution_count": 57,
   "metadata": {
    "scrolled": true
   },
   "outputs": [
    {
     "data": {
      "text/plain": [
       "<Axes: >"
      ]
     },
     "execution_count": 57,
     "metadata": {},
     "output_type": "execute_result"
    },
    {
     "data": {
      "image/png": "[encoded data removed]",
      "text/plain": [
       "<Figure size 640x480 with 1 Axes>"
      ]
     },
     "metadata": {},
     "output_type": "display_data"
    }
   ],
   "source": [
    "X['DepTime_Hour'].hist(bins=20)"
   ]
  },
  {
   "cell_type": "code",
   "execution_count": 58,
   "metadata": {},
   "outputs": [
    {
     "data": {
      "text/plain": [
       "<Axes: >"
      ]
     },
     "execution_count": 58,
     "metadata": {},
     "output_type": "execute_result"
    },
    {
     "data": {
      "image/png": "[encoded data removed]",
      "text/plain": [
       "<Figure size 640x480 with 1 Axes>"
      ]
     },
     "metadata": {},
     "output_type": "display_data"
    }
   ],
   "source": [
    "X['TaxiIn'].hist(bins=20)"
   ]
  },
  {
   "cell_type": "code",
   "execution_count": 59,
   "metadata": {},
   "outputs": [
    {
     "data": {
      "text/plain": [
       "<Axes: >"
      ]
     },
     "execution_count": 59,
     "metadata": {},
     "output_type": "execute_result"
    },
    {
     "data": {
      "image/png": "[encoded data removed]",
      "text/plain": [
       "<Figure size 640x480 with 1 Axes>"
      ]
     },
     "metadata": {},
     "output_type": "display_data"
    }
   ],
   "source": [
    "X['FlightNum'].hist(bins=20)"
   ]
  },
  {
   "cell_type": "markdown",
   "metadata": {},
   "source": [
    "Какую проблему вы наблюдаете на этих графиках? Как масштабирование поможет её исправить?"
   ]
  },
  {
   "cell_type": "raw",
   "metadata": {
    "vscode": {
     "languageId": "raw"
    }
   },
   "source": [
    "Конкретные проблемы:\n",
    "\n",
    "1. Неравномерный вклад в модель - признаки с большим разбросом (FlightNum) будут доминировать над признаками с малым разбросом (TaxiIn)\n",
    "2. Проблемы с градиентным спуском - алгоритму сложно сходиться при разных масштабах признаков\n",
    "3. Некорректные коэффициенты - в линейных моделях коэффициенты будут отражать не важность признака, а его масштаб\n",
    "\n",
    "После масштабирования:\n",
    "\n",
    "1) Все признаки имеют mean ≈ 0 и std ≈ 1\n",
    "2) Равный вклад в функцию потерь\n",
    "3) Ускорение сходимости градиентного спуска\n",
    "4) Корректная интерпретация коэффициентов\n",
    "5) Улучшение работы регуляризации (L1/L2)"
   ]
  },
  {
   "cell_type": "markdown",
   "metadata": {},
   "source": [
    "Некоторые из признаков в нашем датасете являются категориальными. Типичным подходом к работе с ними является бинарное, или [one-hot-кодирование](https://en.wikipedia.org/wiki/One-hot).\n",
    "\n",
    "Реализуйте функцию transform_data, которая принимает на вход DataFrame с признаками и выполняет следующие шаги:\n",
    "1. Замена пропущенных значений на нули для вещественных признаков и на строки 'nan' для категориальных.\n",
    "2. Масштабирование вещественных признаков с помощью [StandardScaler](http://scikit-learn.org/stable/modules/generated/sklearn.preprocessing.StandardScaler.html).\n",
    "3. One-hot-кодирование категориальных признаков с помощью [DictVectorizer](http://scikit-learn.org/stable/modules/generated/sklearn.feature_extraction.DictVectorizer.html) или функции [pd.get_dummies](http://pandas.pydata.org/pandas-docs/stable/generated/pandas.get_dummies.html).\n",
    "\n",
    "Метод должен возвращать преобразованный DataFrame, который должна состоять из масштабированных вещественных признаков и закодированных категориальных (исходные признаки должны быть исключены из выборки)."
   ]
  },
  {
   "cell_type": "code",
   "execution_count": 107,
   "metadata": {
    "collapsed": true
   },
   "outputs": [
    {
     "name": "stdout",
     "output_type": "stream",
     "text": [
      "Исходные данные - размер: (63404, 20)\n",
      "Исходные признаки: ['Month', 'DayofMonth', 'DayOfWeek', 'UniqueCarrier', 'FlightNum', 'AirTime', 'Origin', 'Dest', 'Distance', 'TaxiIn', 'TaxiOut', 'Diverted', 'DepTime_Hour', 'DepTime_Minute', 'CRSDepTime_Hour', 'CRSDepTime_Minute', 'ArrTime_Hour', 'ArrTime_Minute', 'CRSArrTime_Hour', 'CRSArrTime_Minute']\n"
     ]
    }
   ],
   "source": [
    "def transform_data(data):\n",
    "    for col in data.columns:\n",
    "        if data[col].dtype in ['float64', 'int64']:\n",
    "            data[col] = data[col].fillna(0)\n",
    "        else:\n",
    "            data[col] = data[col].fillna('nan')\n",
    "\n",
    "    \n",
    "    numeric_cols = data.select_dtypes(include=['float64', 'int64']).columns\n",
    "    categorical_cols = data.select_dtypes(include=['object']).columns\n",
    "\n",
    "    \n",
    "    from sklearn.preprocessing import StandardScaler\n",
    "    scaler = StandardScaler()\n",
    "    numeric_data = scaler.fit_transform(data[numeric_cols])\n",
    "    numeric_df = pd.DataFrame(numeric_data, columns=numeric_cols, index=data.index)\n",
    "\n",
    "    \n",
    "    if len(categorical_cols) > 0:\n",
    "        categorical_df = pd.get_dummies(data[categorical_cols], prefix=categorical_cols)\n",
    "\n",
    "        # Объединяем\n",
    "        result = pd.concat([numeric_df, categorical_df], axis=1)\n",
    "    else:\n",
    "        result = numeric_df\n",
    "    return result\n",
    "\n",
    "print(f\"Исходные данные - размер: {X.shape}\")\n",
    "print(f\"Исходные признаки: {list(X.columns)}\")"
   ]
  },
  {
   "cell_type": "markdown",
   "metadata": {},
   "source": [
    "Примените функцию transform_data к данным. Сколько признаков получилось после преобразования?"
   ]
  },
  {
   "cell_type": "code",
   "execution_count": 108,
   "metadata": {
    "collapsed": true
   },
   "outputs": [
    {
     "name": "stdout",
     "output_type": "stream",
     "text": [
      "Исходное количество признаков: 20\n",
      "После преобразования: 631\n"
     ]
    }
   ],
   "source": [
    "X_transformed = transform_data(X)\n",
    "\n",
    "print(f\"Исходное количество признаков: {X.shape[1]}\")\n",
    "print(f\"После преобразования: {X_transformed.shape[1]}\")"
   ]
  },
  {
   "cell_type": "markdown",
   "metadata": {},
   "source": [
    "**16. (0.5 балла)** Разбейте выборку и вектор целевой переменной на обучение и контроль в отношении 70/30 (для этого можно использовать, например, функцию [train_test_split](http://scikit-learn.org/stable/modules/generated/sklearn.cross_validation.train_test_split.html)). "
   ]
  },
  {
   "cell_type": "code",
   "execution_count": 109,
   "metadata": {
    "collapsed": true
   },
   "outputs": [
    {
     "name": "stdout",
     "output_type": "stream",
     "text": [
      "Обучающая выборка: (44382, 631)\n",
      "Контрольная выборка: (19022, 631)\n",
      "Целевая переменная - train: (44382,), test: (19022,)\n"
     ]
    }
   ],
   "source": [
    "from sklearn.model_selection import train_test_split\n",
    "\n",
    "X_train, X_test, y_train, y_test = train_test_split(\n",
    "    X_transformed, y,\n",
    "    test_size=0.3,\n",
    "    random_state=42\n",
    ")\n",
    "\n",
    "print(f\"Обучающая выборка: {X_train.shape}\")\n",
    "print(f\"Контрольная выборка: {X_test.shape}\")\n",
    "print(f\"Целевая переменная - train: {y_train.shape}, test: {y_test.shape}\")"
   ]
  },
  {
   "cell_type": "markdown",
   "metadata": {},
   "source": [
    "### Scikit-learn\n",
    "\n",
    "<img src = \"https://pp.vk.me/c4534/u35727827/93547647/x_d31c4463.jpg\">\n",
    "Теперь, когда мы привели данные к пригодному виду, попробуем решить задачу при помощи метода наименьших квадратов. Напомним, что данный метод заключается в оптимизации функционала $MSE$:\n",
    "\n",
    "$$MSE(X, y) = \\frac{1}{l} \\sum_{i=1}^l (<w, x_i> - y_i)^2 \\to \\min_{w},$$\n",
    "\n",
    "где $\\{ (x_i, y_i ) \\}_{i=1}^l$ — обучающая выборка, состоящая из $l$ пар объект-ответ.\n",
    "\n",
    "Заметим, что решение данной задачи уже реализовано в модуле sklearn в виде класса [LinearRegression](http://scikit-learn.org/stable/modules/generated/sklearn.linear_model.LinearRegression.html#sklearn.linear_model.LinearRegression).\n",
    "\n",
    "**17. (0.5 балла)** Обучите линейную регрессию на 1000 объектах из обучающей выборки и выведите значения $MSE$ и $R^2$ на этой подвыборке и контрольной выборке (итого 4 различных числа). Проинтерпретируйте полученный результат — насколько качественные прогнозы строит полученная модель? Какие проблемы наблюдаются в модели?\n",
    "\n",
    "**Подсказка**: изучите значения полученных коэффициентов $w$, сохраненных в атрибуте coef_ объекта LinearRegression."
   ]
  },
  {
   "cell_type": "code",
   "execution_count": 110,
   "metadata": {
    "collapsed": true
   },
   "outputs": [
    {
     "name": "stdout",
     "output_type": "stream",
     "text": [
      "1. ПЕРЕОБУЧЕНИЕ:\n",
      "   - R² на train: 0.4646 (очень высокий)\n",
      "   - R² на test: -0.2581 (значительно ниже)\n",
      "   - Разница: 0.7227\n",
      "\n",
      "2. ПРОБЛЕМЫ С КОЭФФИЦИЕНТАМИ:\n",
      "   - Максимальный коэффициент: 138.92\n",
      "   - Минимальный коэффициент: -50.83\n",
      "   - Диапазон коэффициентов: 189.75\n",
      "   - Среднее абсолютное значение: 7.14\n"
     ]
    }
   ],
   "source": [
    "from sklearn.linear_model import LinearRegression\n",
    "from sklearn.metrics import mean_squared_error, r2_score\n",
    "\n",
    "X_train_small = X_train.head(1000)\n",
    "y_train_small = y_train.head(1000)\n",
    "\n",
    "# Обучение линейной регрессии\n",
    "lr = LinearRegression()\n",
    "lr.fit(X_train_small, y_train_small)\n",
    "\n",
    "# Предсказания\n",
    "y_train_pred = lr.predict(X_train_small)\n",
    "y_test_pred = lr.predict(X_test.head(1000))\n",
    "\n",
    "# Метрики\n",
    "train_mse = mean_squared_error(y_train_small, y_train_pred)\n",
    "train_r2 = r2_score(y_train_small, y_train_pred)\n",
    "test_mse = mean_squared_error(y_test.head(1000), y_test_pred)\n",
    "test_r2 = r2_score(y_test.head(1000), y_test_pred)\n",
    "\n",
    "coef_df = pd.DataFrame({\n",
    "    'Признак': X_train_small.columns,\n",
    "    'Коэффициент': lr.coef_,\n",
    "    'Абс_значение': np.abs(lr.coef_)\n",
    "}).sort_values('Абс_значение', ascending=False)\n",
    "\n",
    "print(\"1. ПЕРЕОБУЧЕНИЕ:\")\n",
    "print(f\"   - R² на train: {train_r2:.4f} (очень высокий)\")\n",
    "print(f\"   - R² на test: {test_r2:.4f} (значительно ниже)\")\n",
    "print(f\"   - Разница: {train_r2 - test_r2:.4f}\")\n",
    "\n",
    "print(\"\\n2. ПРОБЛЕМЫ С КОЭФФИЦИЕНТАМИ:\")\n",
    "print(f\"   - Максимальный коэффициент: {np.max(lr.coef_):.2f}\")\n",
    "print(f\"   - Минимальный коэффициент: {np.min(lr.coef_):.2f}\")\n",
    "print(f\"   - Диапазон коэффициентов: {np.max(lr.coef_) - np.min(lr.coef_):.2f}\")\n",
    "print(f\"   - Среднее абсолютное значение: {np.mean(np.abs(lr.coef_)):.2f}\")"
   ]
  },
  {
   "cell_type": "markdown",
   "metadata": {
    "collapsed": true
   },
   "source": [
    "Для решения описанных вами в предыдущем пункте проблем используем L1- или L2-регуляризацию, тем самым получив Lasso и Ridge регрессии соответственно и изменив оптимизационную задачу одним из следующих образов:\n",
    "$$MSE_{L1}(X, y) = \\frac{1}{l} \\sum_{i=1}^l (<w, x_i> - y_i)^2 + \\alpha ||w||_1 \\to \\min_{w},$$\n",
    "$$MSE_{L2}(X, y) = \\frac{1}{l} \\sum_{i=1}^l (<w, x_i> - y_i)^2 + \\alpha ||w||_2^2 \\to \\min_{w},$$\n",
    "\n",
    "где $\\alpha$ — коэффициент регуляризации. Один из способов его подбора заключается в переборе некоторого количества значений и оценке качества на кросс-валидации для каждого из них, после чего выбирается значение, для которого было получено наилучшее качество."
   ]
  },
  {
   "cell_type": "code",
   "execution_count": 111,
   "metadata": {},
   "outputs": [
    {
     "name": "stdout",
     "output_type": "stream",
     "text": [
      "Подбор коэффициента регуляризации α:\n",
      "\n",
      "------------------------------\n",
      "LASSO (L1-регуляризация)\n",
      "------------------------------\n",
      "Лучший alpha для Lasso: 0.2812\n",
      "Лучший MSE: 955.37\n",
      "\n",
      "------------------------------\n",
      "RIDGE (L2-регуляризация)\n",
      "------------------------------\n",
      "Лучший alpha для Ridge: 44.9843\n",
      "Лучший MSE: 940.09\n"
     ]
    }
   ],
   "source": [
    "from sklearn.linear_model import Lasso, Ridge\n",
    "from sklearn.model_selection import cross_val_score\n",
    "\n",
    "# Определение диапазона коэффициентов регуляризации\n",
    "alphas = np.logspace(-3, 3, 50)\n",
    "\n",
    "print(\"Подбор коэффициента регуляризации α:\")\n",
    "\n",
    "# Lasso регрессия (L1-регуляризация)\n",
    "print(\"\\n\" + \"-\" * 30)\n",
    "print(\"LASSO (L1-регуляризация)\")\n",
    "print(\"-\" * 30)\n",
    "\n",
    "lasso_scores = []\n",
    "for alpha in alphas:\n",
    "    lasso = Lasso(alpha=alpha, random_state=42)\n",
    "    score = cross_val_score(lasso, X_train_small, y_train_small, \n",
    "                          scoring='neg_mean_squared_error', cv=5).mean()\n",
    "    lasso_scores.append(-score)\n",
    "\n",
    "best_alpha_lasso = alphas[np.argmin(lasso_scores)]\n",
    "print(f\"Лучший alpha для Lasso: {best_alpha_lasso:.4f}\")\n",
    "print(f\"Лучший MSE: {min(lasso_scores):.2f}\")\n",
    "\n",
    "# Ridge регрессия (L2-регуляризация)\n",
    "print(\"\\n\" + \"-\" * 30)\n",
    "print(\"RIDGE (L2-регуляризация)\")\n",
    "print(\"-\" * 30)\n",
    "\n",
    "ridge_scores = []\n",
    "for alpha in alphas:\n",
    "    ridge = Ridge(alpha=alpha, random_state=42)\n",
    "    score = cross_val_score(ridge, X_train_small, y_train_small, \n",
    "                          scoring='neg_mean_squared_error', cv=5).mean()\n",
    "    ridge_scores.append(-score)\n",
    "\n",
    "best_alpha_ridge = alphas[np.argmin(ridge_scores)]\n",
    "print(f\"Лучший alpha для Ridge: {best_alpha_ridge:.4f}\")\n",
    "print(f\"Лучший MSE: {min(ridge_scores):.2f}\")"
   ]
  },
  {
   "cell_type": "markdown",
   "metadata": {},
   "source": [
    "__18. (1 балл) __ Обучение линейной регрессии.\n",
    "\n",
    "\n",
    "\n",
    "Обучите линейную регрессию с $L_1$ (Lasso) и $L_2$ (Ridge) регуляризаторами (используйте параметры по умолчанию). Посмотрите, какое количество коэффициентов близко к 0 (степень близости к 0 определите сами из разумных пределов). Постройте график зависимости числа ненулевых коэффициентов от коэффицента регуляризации (перебирайте значения по логарифмической сетке от $10^{-3}$ до $10^3$). Согласуются ли результаты с вашими ожиданиями?"
   ]
  },
  {
   "cell_type": "code",
   "execution_count": 112,
   "metadata": {
    "collapsed": true
   },
   "outputs": [
    {
     "data": {
      "image/png": "[encoded data removed]",
      "text/plain": [
       "<Figure size 1000x600 with 1 Axes>"
      ]
     },
     "metadata": {},
     "output_type": "display_data"
    }
   ],
   "source": [
    "from sklearn.linear_model import Lasso, Ridge\n",
    "from sklearn.model_selection import GridSearchCV, KFold\n",
    "from sklearn.metrics import mean_squared_error, mean_absolute_error, r2_score\n",
    "import matplotlib.pyplot as plt\n",
    "import numpy as np\n",
    "\n",
    "alphas = np.logspace(-3, 3, 20)\n",
    "lasso_nonzero_counts = []\n",
    "ridge_significant_counts = []\n",
    "\n",
    "for alpha in alphas:\n",
    "    # Lasso регрессия\n",
    "    lasso = Lasso(alpha=alpha, random_state=42, max_iter=5000)\n",
    "    lasso.fit(X_train[:1000], y_train[:1000])\n",
    "    lasso_nonzero = np.sum(np.abs(lasso.coef_) > 0.01)  \n",
    "    lasso_nonzero_counts.append(lasso_nonzero)\n",
    "\n",
    "# График\n",
    "plt.figure(figsize=(10, 6))\n",
    "plt.plot(alphas, lasso_nonzero_counts, 'bo-')\n",
    "plt.xscale('log')\n",
    "plt.xlabel('Alpha')\n",
    "plt.ylabel('Ненулевые коэффициенты')\n",
    "plt.title('Lasso: ненулевые коэффициенты vs alpha')\n",
    "plt.grid(True)\n",
    "plt.show()"
   ]
  },
  {
   "cell_type": "markdown",
   "metadata": {},
   "source": [
    "Результаты полностью согласуются с теоретическими ожиданиями поведения Lasso-регрессии:\n",
    "\n",
    "1. При малых значениях alpha (10^-3 - 10^-1) наблюдается большое количество ненулевых коэффициентов, что соответствует слабой регуляризации и поведению, близкому к обычной линейной регрессии.\n",
    "\n",
    "2. По мере увеличения alpha происходит постепенное уменьшение числа ненулевых коэффициентов, что демонстрирует эффект L1-регуляризации - отбор наиболее важных признаков и обнуление менее значимых.\n",
    "\n",
    "3. При больших значениях alpha (10^1 - 10^3) количество ненулевых коэффициентов стремится к минимуму, что соответствует сильной регуляризации, когда модель оставляет только самые информативные признаки.\n",
    "\n",
    "4. Монотонное убывание кривой на графике подтверждает, что с увеличением коэффициента регуляризации Lasso последовательно исключает признаки из модели, что полностью соответствует принципу работы L1-регуляризации.\n",
    "\n",
    "Таким образом, наблюдаемое поведение модели точно соответствует теоретическим ожиданиям: Lasso выполняет отбор признаков, причем степень отбора контролируется параметром α."
   ]
  },
  {
   "cell_type": "markdown",
   "metadata": {},
   "source": [
    "Посчитайте для Ridge-регрессии следующие метрики: $RMSE$, $MAE$, $R^2$."
   ]
  },
  {
   "cell_type": "code",
   "execution_count": 113,
   "metadata": {
    "collapsed": true
   },
   "outputs": [
    {
     "name": "stdout",
     "output_type": "stream",
     "text": [
      "RMSE: 34.64\n",
      "MAE: 20.71\n",
      "R²: -0.1070\n"
     ]
    }
   ],
   "source": [
    "ridge = Ridge(alpha=1.0)\n",
    "ridge.fit(X_train[:1000], y_train[:1000])\n",
    "y_pred_ridge = ridge.predict(X_test[:1000])\n",
    "\n",
    "rmse = np.sqrt(mean_squared_error(y_test[:1000], y_pred_ridge))\n",
    "mae = mean_absolute_error(y_test[:1000], y_pred_ridge)\n",
    "r2 = r2_score(y_test[:1000], y_pred_ridge)\n",
    "\n",
    "print(f\"RMSE: {rmse:.2f}\")\n",
    "print(f\"MAE: {mae:.2f}\")\n",
    "print(f\"R²: {r2:.4f}\")"
   ]
  },
  {
   "cell_type": "markdown",
   "metadata": {},
   "source": [
    "Подберите на обучающей выборке для Ridge-регрессии коэффициент регуляризации (перебирайте значения по логарифмической сетке от $10^{-3}$ до $10^3$) для каждой из метрик при помощи кросс-валидации c 5 фолдами на тех же 1000 объектах. Для этого воспользуйтесь GridSearchCV и KFold из sklearn. Постройте графики зависимости фукнции потерь от коэффициента регуляризации. Посчитайте те же метрики снова. Заметно ли изменилось качество?\n",
    "\n",
    "Для выполнения данного задания вам могут понадобиться реализованные в библиотеке объекты [LassoCV](http://scikit-learn.org/stable/modules/generated/sklearn.linear_model.LassoCV.html), [RidgeCV](http://scikit-learn.org/stable/modules/generated/sklearn.linear_model.RidgeCV.html) и [KFold](http://scikit-learn.org/stable/modules/generated/sklearn.cross_validation.KFold.html)."
   ]
  },
  {
   "cell_type": "code",
   "execution_count": 114,
   "metadata": {
    "collapsed": true
   },
   "outputs": [
    {
     "name": "stdout",
     "output_type": "stream",
     "text": [
      "Лучший alpha: 54.5559\n"
     ]
    },
    {
     "data": {
      "image/png": "[encoded data removed]",
      "text/plain": [
       "<Figure size 1000x600 with 1 Axes>"
      ]
     },
     "metadata": {},
     "output_type": "display_data"
    },
    {
     "name": "stdout",
     "output_type": "stream",
     "text": [
      "RMSE: 32.54\n",
      "MAE: 18.17\n",
      "R²: 0.0226\n"
     ]
    }
   ],
   "source": [
    "kf = KFold(n_splits=5, shuffle=True, random_state=42)\n",
    "\n",
    "# Подбор для Ridge регрессии\n",
    "ridge_cv = GridSearchCV(\n",
    "    Ridge(),\n",
    "    param_grid={'alpha': np.logspace(-3, 3, 20)},\n",
    "    cv=kf,\n",
    "    scoring='neg_mean_squared_error',\n",
    "    return_train_score=True\n",
    ")\n",
    "\n",
    "ridge_cv.fit(X_train[:1000], y_train[:1000])\n",
    "\n",
    "print(f\"Лучший alpha: {ridge_cv.best_params_['alpha']:.4f}\")\n",
    "\n",
    "plt.figure(figsize=(10, 6))\n",
    "test_scores = -ridge_cv.cv_results_['mean_test_score']\n",
    "train_scores = -ridge_cv.cv_results_['mean_train_score']\n",
    "\n",
    "plt.semilogx(ridge_cv.cv_results_['param_alpha'], train_scores, 'b-', label='Train MSE')\n",
    "plt.semilogx(ridge_cv.cv_results_['param_alpha'], test_scores, 'r-', label='Test MSE')\n",
    "plt.axvline(ridge_cv.best_params_['alpha'], color='gray', linestyle='--', label=f'Best α = {ridge_cv.best_params_[\"alpha\"]:.4f}')\n",
    "plt.xlabel('Alpha')\n",
    "plt.ylabel('MSE')\n",
    "plt.title('Ridge: Зависимость MSE от alpha')\n",
    "plt.legend()\n",
    "plt.grid(True, alpha=0.3)\n",
    "plt.show()\n",
    "\n",
    "# Метрики с подобранным параметром\n",
    "\n",
    "ridge_best = ridge_cv.best_estimator_\n",
    "y_pred_best = ridge_best.predict(X_test[:1000])\n",
    "\n",
    "rmse_best = np.sqrt(mean_squared_error(y_test[:1000], y_pred_best))\n",
    "mae_best = mean_absolute_error(y_test[:1000], y_pred_best)\n",
    "r2_best = r2_score(y_test[:1000], y_pred_best)\n",
    "\n",
    "print(f\"RMSE: {rmse_best:.2f}\")\n",
    "print(f\"MAE: {mae_best:.2f}\")\n",
    "print(f\"R²: {r2_best:.4f}\")"
   ]
  },
  {
   "cell_type": "markdown",
   "metadata": {
    "collapsed": true
   },
   "source": [
    "__19. (0.5 балла)__ Поиск объектов-выбросов\n",
    "\n",
    "\n",
    "Как известно, MSE сильно штрафует за большие ошибки на объектах-выбросах. С помощью cross_val_predict сделайте Out-of-Fold предсказания для обучающей выборки. Посчитайте ошибки и посмотрите на их распределение (plt.hist). Что вы видите?"
   ]
  },
  {
   "cell_type": "code",
   "execution_count": 115,
   "metadata": {},
   "outputs": [
    {
     "name": "stdout",
     "output_type": "stream",
     "text": [
      "Размер выборки: 1000 объектов\n",
      "Диапазон ошибок: от -43.1 до 273.4 минут\n"
     ]
    },
    {
     "data": {
      "image/png": "[encoded data removed]",
      "text/plain": [
       "<Figure size 1500x500 with 3 Axes>"
      ]
     },
     "metadata": {},
     "output_type": "display_data"
    }
   ],
   "source": [
    "from sklearn.model_selection import cross_val_predict\n",
    "from sklearn.linear_model import Ridge\n",
    "import matplotlib.pyplot as plt\n",
    "import numpy as np\n",
    "\n",
    "\n",
    "y_oof = cross_val_predict(\n",
    "    Ridge(alpha),\n",
    "    X_train[:1000], \n",
    "    y_train[:1000], \n",
    "    cv=5\n",
    ")\n",
    "\n",
    "# Вычисляем ошибки предсказания\n",
    "errors = y_train[:1000] - y_oof\n",
    "\n",
    "print(f\"Размер выборки: {len(errors)} объектов\")\n",
    "print(f\"Диапазон ошибок: от {np.min(errors):.1f} до {np.max(errors):.1f} минут\")\n",
    "\n",
    "# Анализ распределения ошибок\n",
    "plt.figure(figsize=(15, 5))\n",
    "\n",
    "# Гистограмма ошибок\n",
    "plt.subplot(1, 3, 1)\n",
    "plt.hist(errors, bins=50, alpha=0.7, color='lightblue', edgecolor='black')\n",
    "plt.xlabel('Ошибка предсказания (минуты)')\n",
    "plt.ylabel('Количество объектов')\n",
    "plt.title('Распределение ошибок предсказания')\n",
    "plt.grid(True, alpha=0.3)\n",
    "\n",
    "# Гистограмма абсолютных ошибок\n",
    "plt.subplot(1, 3, 2)\n",
    "absolute_errors = np.abs(errors)\n",
    "plt.hist(absolute_errors, bins=50, alpha=0.7, color='lightcoral', edgecolor='black')\n",
    "plt.xlabel('Абсолютная ошибка (минуты)')\n",
    "plt.ylabel('Количество объектов')\n",
    "plt.title('Распределение абсолютных ошибок')\n",
    "plt.grid(True, alpha=0.3)\n",
    "\n",
    "# Гистограмма квадратов ошибок (для понимания MSE)\n",
    "plt.subplot(1, 3, 3)\n",
    "squared_errors = errors**2\n",
    "plt.hist(squared_errors, bins=50, alpha=0.7, color='lightgreen', edgecolor='black')\n",
    "plt.xlabel('Квадрат ошибки (минуты²)')\n",
    "plt.ylabel('Количество объектов')\n",
    "plt.title('Распределение квадратов ошибок\\n(вклад в MSE)')\n",
    "plt.grid(True, alpha=0.3)\n",
    "\n",
    "plt.tight_layout()\n",
    "plt.show()"
   ]
  },
  {
   "cell_type": "code",
   "execution_count": 116,
   "metadata": {},
   "outputs": [
    {
     "name": "stdout",
     "output_type": "stream",
     "text": [
      "Статистики ошибок:\n",
      "Средняя ошибка: -0.01\n",
      "Стандартное отклонение: 31.75\n",
      "Медиана: -9.08\n",
      "Максимальная ошибка: 273.38\n",
      "\n",
      "Выбросы (ошибки > 63.49): 47 объектов\n"
     ]
    }
   ],
   "source": [
    "print(f\"Статистики ошибок:\")\n",
    "print(f\"Средняя ошибка: {np.mean(errors):.2f}\")\n",
    "print(f\"Стандартное отклонение: {np.std(errors):.2f}\")\n",
    "print(f\"Медиана: {np.median(errors):.2f}\")\n",
    "print(f\"Максимальная ошибка: {np.max(np.abs(errors)):.2f}\")\n",
    "\n",
    "# Выбросы (ошибки больше 2 стандартных отклонений)\n",
    "outlier_threshold = 2 * np.std(errors)\n",
    "outliers = np.abs(errors) > outlier_threshold\n",
    "print(f\"\\nВыбросы (ошибки > {outlier_threshold:.2f}): {np.sum(outliers)} объектов\")"
   ]
  },
  {
   "cell_type": "markdown",
   "metadata": {},
   "source": [
    "Распределение ошибок имеет тяжелые хвосты, что указывает на наличие выбросов\n",
    "MSE сильно штрафует за большие ошибки на этих объектах"
   ]
  }
 ],
 "metadata": {
  "kernelspec": {
   "display_name": "Python 3",
   "language": "python",
   "name": "python3"
  },
  "language_info": {
   "codemirror_mode": {
    "name": "ipython",
    "version": 3
   },
   "file_extension": ".py",
   "mimetype": "text/x-python",
   "name": "python",
   "nbconvert_exporter": "python",
   "pygments_lexer": "ipython3",
   "version": "3.12.6"
  }
 },
 "nbformat": 4,
 "nbformat_minor": 1
}
